{
 "cells": [
  {
   "cell_type": "markdown",
   "source": [
    "## Гендерный анализ тонального словаря русского языка КартаСловСент"
   ],
   "metadata": {
    "collapsed": false
   }
  },
  {
   "cell_type": "markdown",
   "source": [
    "0. В качестве датасета с размеченной тональностью, возьмем словарь из работы Кулагина Д. И. \"Открытый тональный словарь\n",
    "русского языка КартаСловСент\" (https://www.dialog-21.ru/media/5570/kulagindi026.pdf). Словарь доступен для скачивания\n",
    "по ссылке https://github.com/dkulagin/kartaslov. Будем использовать для него имя DATA-S.\n",
    "1. Для данной работы из датасета (словника) DATA-S используются столбцы 'term' (содержит слово или словосочетание),\n",
    " 'tag' (метка тональности из набора <NEUT(Нейтральная), PSTV(Позитивная), NGTV(Негативная)>. Остальные столбцы не\n",
    " используются. Более детальное описание датасета см. в работе из п.0.\n",
    "2. Будем рассматривать каждый элемент датасета (словника) DATA-S как отдельный текст, состоящий из одного слова или\n",
    "словосочетания. С помощью модели RuSb_big, описанной в работе Бадеева Д.Н. \"Gender Profiling in Social Network\"\n",
    "(https://github.com/dbadeev/gender_profiling/blob/main/reports/Dmitry_Badeev__Gender_Profiling_in_Social_Network_rus.pdf)\n",
    "проведем гендерную разметку таких текстов. При этом, значения для разметки будем брать не с выходного слоя модели\n",
    "(0 для F и 1 для M), а с предыдущего, где текст характеризуется парой (f, m), где 0. =< m,f =< 1.\n",
    "В итоге, получим датасет DATA-SG с дополнительной гендерной разметкой, а именно - с тремя дополнительными столбцами\n",
    "'Female', 'Male' и 'F - M'. Первый и второй содержат вероятностную оценку модели на принадлежность элемента к тому или\n",
    "иному гендернрому классу, последний - разность между значениями в столбцах 'Female', 'Male'.\n",
    "4. Датасет DATA-SG подготовлен вне рамок данного блокнота. Текст программы подготовки датасета находится по ссылке ..."
   ],
   "metadata": {
    "collapsed": false
   }
  },
  {
   "cell_type": "markdown",
   "source": [
    "Считываем датасет DATA-SG"
   ],
   "metadata": {
    "collapsed": false
   }
  },
  {
   "cell_type": "code",
   "execution_count": 218,
   "outputs": [
    {
     "data": {
      "text/plain": "(46127, 12)"
     },
     "execution_count": 218,
     "metadata": {},
     "output_type": "execute_result"
    }
   ],
   "source": [
    "import pandas as pd\n",
    "\n",
    "df = pd.read_csv(\"kartaslov_sent_gender.csv\", sep='\\t')\n",
    "df.shape"
   ],
   "metadata": {
    "collapsed": false,
    "pycharm": {
     "name": "#%%\n"
    }
   }
  },
  {
   "cell_type": "markdown",
   "source": [
    "Удаляем неиспользуемые столбцы"
   ],
   "metadata": {
    "collapsed": false
   }
  },
  {
   "cell_type": "code",
   "execution_count": 219,
   "outputs": [],
   "source": [
    "df.drop(df.columns[[0, 3, 4, 5, 6, 7, 8]], axis=1, inplace=True)"
   ],
   "metadata": {
    "collapsed": false,
    "pycharm": {
     "name": "#%%\n"
    }
   }
  },
  {
   "cell_type": "markdown",
   "source": [
    "Сортируем таблицу по значениям столбца 'Male'"
   ],
   "metadata": {
    "collapsed": false
   }
  },
  {
   "cell_type": "code",
   "execution_count": 220,
   "outputs": [],
   "source": [
    "sorted_m = df.sort_values(by='Male')"
   ],
   "metadata": {
    "collapsed": false,
    "pycharm": {
     "name": "#%%\n"
    }
   }
  },
  {
   "cell_type": "markdown",
   "source": [
    "График распределения значений столбца 'Male'"
   ],
   "metadata": {
    "collapsed": false
   }
  },
  {
   "cell_type": "code",
   "execution_count": 221,
   "outputs": [
    {
     "data": {
      "text/plain": "<seaborn.axisgrid.FacetGrid at 0x7f911119fed0>"
     },
     "execution_count": 221,
     "metadata": {},
     "output_type": "execute_result"
    },
    {
     "data": {
      "text/plain": "<Figure size 360x360 with 1 Axes>",
      "image/png": "[encoded data removed]"
     },
     "metadata": {
      "needs_background": "light"
     },
     "output_type": "display_data"
    }
   ],
   "source": [
    "import seaborn as sns\n",
    "import matplotlib as mpl\n",
    "\n",
    "x = df['Male'].values\n",
    "sns.set_palette('hls')\n",
    "mpl.rc('figure', figsize=(6, 4))\n",
    "sns.displot(x, bins=100, color='b', kde=True)"
   ],
   "metadata": {
    "collapsed": false,
    "pycharm": {
     "name": "#%%\n"
    }
   }
  },
  {
   "cell_type": "markdown",
   "source": [
    "Первые 15 значений с наибольшим \"мужским\" рейтингом, выставленным гендерной моделью"
   ],
   "metadata": {
    "collapsed": false
   }
  },
  {
   "cell_type": "code",
   "execution_count": 222,
   "outputs": [
    {
     "data": {
      "text/plain": "                          term   tag  Female   Male  F - M\n19982                недостача  NGTV   0.401  0.840 -0.439\n13225               исчерпание  NGTV   0.470  0.837 -0.367\n21002              неудачность  NGTV   0.421  0.829 -0.408\n20079          незапятнанность  PSTV   0.418  0.829 -0.411\n19671          неблаговидность  NGTV   0.481  0.829 -0.348\n41453             трудоёмкость  NEUT   0.480  0.829 -0.349\n39256           способствовать  PSTV   0.385  0.828 -0.443\n6971                 горючесть  NEUT   0.454  0.828 -0.374\n12538                    изъян  NGTV   0.342  0.827 -0.485\n39486                 старикан  NGTV   0.354  0.823 -0.469\n20208  неконкурентоспособность  NGTV   0.326  0.823 -0.497\n8287          добросовестность  PSTV   0.389  0.823 -0.434\n25300              партийность  NEUT   0.283  0.823 -0.540\n12314                 издержка  NGTV   0.429  0.823 -0.394\n34612               разыскание  NEUT   0.452  0.822 -0.370",
      "text/html": "<div>\n<style scoped>\n    .dataframe tbody tr th:only-of-type {\n        vertical-align: middle;\n    }\n\n    .dataframe tbody tr th {\n        vertical-align: top;\n    }\n\n    .dataframe thead th {\n        text-align: right;\n    }\n</style>\n<table border=\"1\" class=\"dataframe\">\n  <thead>\n    <tr style=\"text-align: right;\">\n      <th></th>\n      <th>term</th>\n      <th>tag</th>\n      <th>Female</th>\n      <th>Male</th>\n      <th>F - M</th>\n    </tr>\n  </thead>\n  <tbody>\n    <tr>\n      <th>19982</th>\n      <td>недостача</td>\n      <td>NGTV</td>\n      <td>0.401</td>\n      <td>0.840</td>\n      <td>-0.439</td>\n    </tr>\n    <tr>\n      <th>13225</th>\n      <td>исчерпание</td>\n      <td>NGTV</td>\n      <td>0.470</td>\n      <td>0.837</td>\n      <td>-0.367</td>\n    </tr>\n    <tr>\n      <th>21002</th>\n      <td>неудачность</td>\n      <td>NGTV</td>\n      <td>0.421</td>\n      <td>0.829</td>\n      <td>-0.408</td>\n    </tr>\n    <tr>\n      <th>20079</th>\n      <td>незапятнанность</td>\n      <td>PSTV</td>\n      <td>0.418</td>\n      <td>0.829</td>\n      <td>-0.411</td>\n    </tr>\n    <tr>\n      <th>19671</th>\n      <td>неблаговидность</td>\n      <td>NGTV</td>\n      <td>0.481</td>\n      <td>0.829</td>\n      <td>-0.348</td>\n    </tr>\n    <tr>\n      <th>41453</th>\n      <td>трудоёмкость</td>\n      <td>NEUT</td>\n      <td>0.480</td>\n      <td>0.829</td>\n      <td>-0.349</td>\n    </tr>\n    <tr>\n      <th>39256</th>\n      <td>способствовать</td>\n      <td>PSTV</td>\n      <td>0.385</td>\n      <td>0.828</td>\n      <td>-0.443</td>\n    </tr>\n    <tr>\n      <th>6971</th>\n      <td>горючесть</td>\n      <td>NEUT</td>\n      <td>0.454</td>\n      <td>0.828</td>\n      <td>-0.374</td>\n    </tr>\n    <tr>\n      <th>12538</th>\n      <td>изъян</td>\n      <td>NGTV</td>\n      <td>0.342</td>\n      <td>0.827</td>\n      <td>-0.485</td>\n    </tr>\n    <tr>\n      <th>39486</th>\n      <td>старикан</td>\n      <td>NGTV</td>\n      <td>0.354</td>\n      <td>0.823</td>\n      <td>-0.469</td>\n    </tr>\n    <tr>\n      <th>20208</th>\n      <td>неконкурентоспособность</td>\n      <td>NGTV</td>\n      <td>0.326</td>\n      <td>0.823</td>\n      <td>-0.497</td>\n    </tr>\n    <tr>\n      <th>8287</th>\n      <td>добросовестность</td>\n      <td>PSTV</td>\n      <td>0.389</td>\n      <td>0.823</td>\n      <td>-0.434</td>\n    </tr>\n    <tr>\n      <th>25300</th>\n      <td>партийность</td>\n      <td>NEUT</td>\n      <td>0.283</td>\n      <td>0.823</td>\n      <td>-0.540</td>\n    </tr>\n    <tr>\n      <th>12314</th>\n      <td>издержка</td>\n      <td>NGTV</td>\n      <td>0.429</td>\n      <td>0.823</td>\n      <td>-0.394</td>\n    </tr>\n    <tr>\n      <th>34612</th>\n      <td>разыскание</td>\n      <td>NEUT</td>\n      <td>0.452</td>\n      <td>0.822</td>\n      <td>-0.370</td>\n    </tr>\n  </tbody>\n</table>\n</div>"
     },
     "execution_count": 222,
     "metadata": {},
     "output_type": "execute_result"
    }
   ],
   "source": [
    "sorted_m.tail(15).sort_values(by='Male', ascending=False)"
   ],
   "metadata": {
    "collapsed": false,
    "pycharm": {
     "name": "#%%\n"
    }
   }
  },
  {
   "cell_type": "markdown",
   "source": [
    "Первые 15 значений с наименьшим \"мужским\" рейтингом, выставленным гендерной моделью"
   ],
   "metadata": {
    "collapsed": false
   }
  },
  {
   "cell_type": "code",
   "execution_count": 223,
   "outputs": [
    {
     "data": {
      "text/plain": "                term   tag  Female   Male  F - M\n23337     оптимистка  PSTV   0.649  0.235  0.414\n12127     идеалистка  PSTV   0.620  0.248  0.372\n35422      реалистка  NEUT   0.595  0.249  0.346\n37490     сказочница  NEUT   0.778  0.271  0.507\n17339  мечтательница  PSTV   0.820  0.276  0.544\n21691        обжорка  NGTV   0.605  0.282  0.323\n42703       упрямица  NGTV   0.554  0.289  0.265\n41694   тьма-тьмущая  NGTV   0.666  0.294  0.372\n26562    пессимистка  NGTV   0.670  0.297  0.373\n1369     бездельница  NGTV   0.620  0.300  0.320\n21690         обжора  NGTV   0.574  0.301  0.273\n4931       всезнайка  PSTV   0.566  0.304  0.262\n3144    вегетарианка  NEUT   0.662  0.305  0.357\n29074       полумгла  NEUT   0.571  0.310  0.261\n45550       эгоистка  NGTV   0.603  0.311  0.292",
      "text/html": "<div>\n<style scoped>\n    .dataframe tbody tr th:only-of-type {\n        vertical-align: middle;\n    }\n\n    .dataframe tbody tr th {\n        vertical-align: top;\n    }\n\n    .dataframe thead th {\n        text-align: right;\n    }\n</style>\n<table border=\"1\" class=\"dataframe\">\n  <thead>\n    <tr style=\"text-align: right;\">\n      <th></th>\n      <th>term</th>\n      <th>tag</th>\n      <th>Female</th>\n      <th>Male</th>\n      <th>F - M</th>\n    </tr>\n  </thead>\n  <tbody>\n    <tr>\n      <th>23337</th>\n      <td>оптимистка</td>\n      <td>PSTV</td>\n      <td>0.649</td>\n      <td>0.235</td>\n      <td>0.414</td>\n    </tr>\n    <tr>\n      <th>12127</th>\n      <td>идеалистка</td>\n      <td>PSTV</td>\n      <td>0.620</td>\n      <td>0.248</td>\n      <td>0.372</td>\n    </tr>\n    <tr>\n      <th>35422</th>\n      <td>реалистка</td>\n      <td>NEUT</td>\n      <td>0.595</td>\n      <td>0.249</td>\n      <td>0.346</td>\n    </tr>\n    <tr>\n      <th>37490</th>\n      <td>сказочница</td>\n      <td>NEUT</td>\n      <td>0.778</td>\n      <td>0.271</td>\n      <td>0.507</td>\n    </tr>\n    <tr>\n      <th>17339</th>\n      <td>мечтательница</td>\n      <td>PSTV</td>\n      <td>0.820</td>\n      <td>0.276</td>\n      <td>0.544</td>\n    </tr>\n    <tr>\n      <th>21691</th>\n      <td>обжорка</td>\n      <td>NGTV</td>\n      <td>0.605</td>\n      <td>0.282</td>\n      <td>0.323</td>\n    </tr>\n    <tr>\n      <th>42703</th>\n      <td>упрямица</td>\n      <td>NGTV</td>\n      <td>0.554</td>\n      <td>0.289</td>\n      <td>0.265</td>\n    </tr>\n    <tr>\n      <th>41694</th>\n      <td>тьма-тьмущая</td>\n      <td>NGTV</td>\n      <td>0.666</td>\n      <td>0.294</td>\n      <td>0.372</td>\n    </tr>\n    <tr>\n      <th>26562</th>\n      <td>пессимистка</td>\n      <td>NGTV</td>\n      <td>0.670</td>\n      <td>0.297</td>\n      <td>0.373</td>\n    </tr>\n    <tr>\n      <th>1369</th>\n      <td>бездельница</td>\n      <td>NGTV</td>\n      <td>0.620</td>\n      <td>0.300</td>\n      <td>0.320</td>\n    </tr>\n    <tr>\n      <th>21690</th>\n      <td>обжора</td>\n      <td>NGTV</td>\n      <td>0.574</td>\n      <td>0.301</td>\n      <td>0.273</td>\n    </tr>\n    <tr>\n      <th>4931</th>\n      <td>всезнайка</td>\n      <td>PSTV</td>\n      <td>0.566</td>\n      <td>0.304</td>\n      <td>0.262</td>\n    </tr>\n    <tr>\n      <th>3144</th>\n      <td>вегетарианка</td>\n      <td>NEUT</td>\n      <td>0.662</td>\n      <td>0.305</td>\n      <td>0.357</td>\n    </tr>\n    <tr>\n      <th>29074</th>\n      <td>полумгла</td>\n      <td>NEUT</td>\n      <td>0.571</td>\n      <td>0.310</td>\n      <td>0.261</td>\n    </tr>\n    <tr>\n      <th>45550</th>\n      <td>эгоистка</td>\n      <td>NGTV</td>\n      <td>0.603</td>\n      <td>0.311</td>\n      <td>0.292</td>\n    </tr>\n  </tbody>\n</table>\n</div>"
     },
     "execution_count": 223,
     "metadata": {},
     "output_type": "execute_result"
    }
   ],
   "source": [
    "sorted_m.head(15)"
   ],
   "metadata": {
    "collapsed": false,
    "pycharm": {
     "name": "#%%\n"
    }
   }
  },
  {
   "cell_type": "markdown",
   "source": [
    "Сортируем таблицу по значениям столбца 'Female'"
   ],
   "metadata": {
    "collapsed": false
   }
  },
  {
   "cell_type": "code",
   "execution_count": 224,
   "outputs": [],
   "source": [
    "sorted_f = df.sort_values(by='Female')"
   ],
   "metadata": {
    "collapsed": false,
    "pycharm": {
     "name": "#%%\n"
    }
   }
  },
  {
   "cell_type": "markdown",
   "source": [
    "График распределения значений столбца 'Female'"
   ],
   "metadata": {
    "collapsed": false
   }
  },
  {
   "cell_type": "code",
   "execution_count": 225,
   "outputs": [
    {
     "data": {
      "text/plain": "<seaborn.axisgrid.FacetGrid at 0x7f9135977d10>"
     },
     "execution_count": 225,
     "metadata": {},
     "output_type": "execute_result"
    },
    {
     "data": {
      "text/plain": "<Figure size 360x360 with 1 Axes>",
      "image/png": "[encoded data removed]"
     },
     "metadata": {
      "needs_background": "light"
     },
     "output_type": "display_data"
    }
   ],
   "source": [
    "x = df['Female'].values\n",
    "sns.set_palette('hls')\n",
    "mpl.rc('figure', figsize=(6, 4))\n",
    "sns.displot(x, bins=100, color='r', kde=True)"
   ],
   "metadata": {
    "collapsed": false,
    "pycharm": {
     "name": "#%%\n"
    }
   }
  },
  {
   "cell_type": "markdown",
   "source": [
    "Первые 15 значений с наибольшим \"женским\" рейтингом, выставленным гендерной моделью"
   ],
   "metadata": {
    "collapsed": false
   }
  },
  {
   "cell_type": "code",
   "execution_count": 226,
   "outputs": [
    {
     "data": {
      "text/plain": "                  term   tag  Female   Male  F - M\n17339    мечтательница  PSTV   0.820  0.276  0.544\n1459     безоблачность  PSTV   0.805  0.537  0.268\n41787         убаюкать  PSTV   0.795  0.474  0.321\n17483      мини-платье  NEUT   0.793  0.448  0.345\n41789       убаюкивать  PSTV   0.792  0.528  0.264\n18150        мурлыкать  PSTV   0.791  0.533  0.258\n43114       ухаживание  PSTV   0.784  0.576  0.208\n14080         клубочек  NEUT   0.783  0.533  0.250\n36250   садомазохистка  NGTV   0.781  0.428  0.353\n21385         ночничок  NEUT   0.780  0.498  0.282\n37490       сказочница  NEUT   0.778  0.271  0.507\n11754        звёздочка  PSTV   0.775  0.549  0.226\n32730  прорицательница  NEUT   0.772  0.506  0.266\n15951         лепесток  NEUT   0.772  0.664  0.108\n33493      путешествие  PSTV   0.771  0.518  0.253",
      "text/html": "<div>\n<style scoped>\n    .dataframe tbody tr th:only-of-type {\n        vertical-align: middle;\n    }\n\n    .dataframe tbody tr th {\n        vertical-align: top;\n    }\n\n    .dataframe thead th {\n        text-align: right;\n    }\n</style>\n<table border=\"1\" class=\"dataframe\">\n  <thead>\n    <tr style=\"text-align: right;\">\n      <th></th>\n      <th>term</th>\n      <th>tag</th>\n      <th>Female</th>\n      <th>Male</th>\n      <th>F - M</th>\n    </tr>\n  </thead>\n  <tbody>\n    <tr>\n      <th>17339</th>\n      <td>мечтательница</td>\n      <td>PSTV</td>\n      <td>0.820</td>\n      <td>0.276</td>\n      <td>0.544</td>\n    </tr>\n    <tr>\n      <th>1459</th>\n      <td>безоблачность</td>\n      <td>PSTV</td>\n      <td>0.805</td>\n      <td>0.537</td>\n      <td>0.268</td>\n    </tr>\n    <tr>\n      <th>41787</th>\n      <td>убаюкать</td>\n      <td>PSTV</td>\n      <td>0.795</td>\n      <td>0.474</td>\n      <td>0.321</td>\n    </tr>\n    <tr>\n      <th>17483</th>\n      <td>мини-платье</td>\n      <td>NEUT</td>\n      <td>0.793</td>\n      <td>0.448</td>\n      <td>0.345</td>\n    </tr>\n    <tr>\n      <th>41789</th>\n      <td>убаюкивать</td>\n      <td>PSTV</td>\n      <td>0.792</td>\n      <td>0.528</td>\n      <td>0.264</td>\n    </tr>\n    <tr>\n      <th>18150</th>\n      <td>мурлыкать</td>\n      <td>PSTV</td>\n      <td>0.791</td>\n      <td>0.533</td>\n      <td>0.258</td>\n    </tr>\n    <tr>\n      <th>43114</th>\n      <td>ухаживание</td>\n      <td>PSTV</td>\n      <td>0.784</td>\n      <td>0.576</td>\n      <td>0.208</td>\n    </tr>\n    <tr>\n      <th>14080</th>\n      <td>клубочек</td>\n      <td>NEUT</td>\n      <td>0.783</td>\n      <td>0.533</td>\n      <td>0.250</td>\n    </tr>\n    <tr>\n      <th>36250</th>\n      <td>садомазохистка</td>\n      <td>NGTV</td>\n      <td>0.781</td>\n      <td>0.428</td>\n      <td>0.353</td>\n    </tr>\n    <tr>\n      <th>21385</th>\n      <td>ночничок</td>\n      <td>NEUT</td>\n      <td>0.780</td>\n      <td>0.498</td>\n      <td>0.282</td>\n    </tr>\n    <tr>\n      <th>37490</th>\n      <td>сказочница</td>\n      <td>NEUT</td>\n      <td>0.778</td>\n      <td>0.271</td>\n      <td>0.507</td>\n    </tr>\n    <tr>\n      <th>11754</th>\n      <td>звёздочка</td>\n      <td>PSTV</td>\n      <td>0.775</td>\n      <td>0.549</td>\n      <td>0.226</td>\n    </tr>\n    <tr>\n      <th>32730</th>\n      <td>прорицательница</td>\n      <td>NEUT</td>\n      <td>0.772</td>\n      <td>0.506</td>\n      <td>0.266</td>\n    </tr>\n    <tr>\n      <th>15951</th>\n      <td>лепесток</td>\n      <td>NEUT</td>\n      <td>0.772</td>\n      <td>0.664</td>\n      <td>0.108</td>\n    </tr>\n    <tr>\n      <th>33493</th>\n      <td>путешествие</td>\n      <td>PSTV</td>\n      <td>0.771</td>\n      <td>0.518</td>\n      <td>0.253</td>\n    </tr>\n  </tbody>\n</table>\n</div>"
     },
     "execution_count": 226,
     "metadata": {},
     "output_type": "execute_result"
    }
   ],
   "source": [
    "sorted_f.tail(15).sort_values(by='Female', ascending=False)"
   ],
   "metadata": {
    "collapsed": false,
    "pycharm": {
     "name": "#%%\n"
    }
   }
  },
  {
   "cell_type": "markdown",
   "source": [
    "Первые 15 значений с наименьшим \"женским\" рейтингом, выставленным гендерной моделью"
   ],
   "metadata": {
    "collapsed": false
   }
  },
  {
   "cell_type": "code",
   "execution_count": 227,
   "outputs": [
    {
     "data": {
      "text/plain": "                  term   tag  Female   Male  F - M\n44468   частноправовой  NEUT   0.185  0.677 -0.492\n34060       разгребать  NEUT   0.188  0.747 -0.559\n8465        докопаться  NGTV   0.190  0.696 -0.506\n17073     межпартийный  NEUT   0.202  0.772 -0.570\n13863      киномеханик  NEUT   0.208  0.691 -0.483\n23158      операционка  NEUT   0.211  0.585 -0.374\n40576    телеаудитория  NEUT   0.212  0.533 -0.321\n4052   внутрипартийный  NEUT   0.214  0.722 -0.508\n40360         сырьевой  NEUT   0.215  0.679 -0.464\n14792            копал  NEUT   0.219  0.717 -0.498\n17072    межотраслевой  NEUT   0.223  0.669 -0.446\n4177        воентехник  NEUT   0.223  0.623 -0.400\n28933       политсовет  NEUT   0.227  0.753 -0.526\n12737       инкассатор  NEUT   0.228  0.761 -0.533\n30750       презумпция  NEUT   0.228  0.604 -0.376",
      "text/html": "<div>\n<style scoped>\n    .dataframe tbody tr th:only-of-type {\n        vertical-align: middle;\n    }\n\n    .dataframe tbody tr th {\n        vertical-align: top;\n    }\n\n    .dataframe thead th {\n        text-align: right;\n    }\n</style>\n<table border=\"1\" class=\"dataframe\">\n  <thead>\n    <tr style=\"text-align: right;\">\n      <th></th>\n      <th>term</th>\n      <th>tag</th>\n      <th>Female</th>\n      <th>Male</th>\n      <th>F - M</th>\n    </tr>\n  </thead>\n  <tbody>\n    <tr>\n      <th>44468</th>\n      <td>частноправовой</td>\n      <td>NEUT</td>\n      <td>0.185</td>\n      <td>0.677</td>\n      <td>-0.492</td>\n    </tr>\n    <tr>\n      <th>34060</th>\n      <td>разгребать</td>\n      <td>NEUT</td>\n      <td>0.188</td>\n      <td>0.747</td>\n      <td>-0.559</td>\n    </tr>\n    <tr>\n      <th>8465</th>\n      <td>докопаться</td>\n      <td>NGTV</td>\n      <td>0.190</td>\n      <td>0.696</td>\n      <td>-0.506</td>\n    </tr>\n    <tr>\n      <th>17073</th>\n      <td>межпартийный</td>\n      <td>NEUT</td>\n      <td>0.202</td>\n      <td>0.772</td>\n      <td>-0.570</td>\n    </tr>\n    <tr>\n      <th>13863</th>\n      <td>киномеханик</td>\n      <td>NEUT</td>\n      <td>0.208</td>\n      <td>0.691</td>\n      <td>-0.483</td>\n    </tr>\n    <tr>\n      <th>23158</th>\n      <td>операционка</td>\n      <td>NEUT</td>\n      <td>0.211</td>\n      <td>0.585</td>\n      <td>-0.374</td>\n    </tr>\n    <tr>\n      <th>40576</th>\n      <td>телеаудитория</td>\n      <td>NEUT</td>\n      <td>0.212</td>\n      <td>0.533</td>\n      <td>-0.321</td>\n    </tr>\n    <tr>\n      <th>4052</th>\n      <td>внутрипартийный</td>\n      <td>NEUT</td>\n      <td>0.214</td>\n      <td>0.722</td>\n      <td>-0.508</td>\n    </tr>\n    <tr>\n      <th>40360</th>\n      <td>сырьевой</td>\n      <td>NEUT</td>\n      <td>0.215</td>\n      <td>0.679</td>\n      <td>-0.464</td>\n    </tr>\n    <tr>\n      <th>14792</th>\n      <td>копал</td>\n      <td>NEUT</td>\n      <td>0.219</td>\n      <td>0.717</td>\n      <td>-0.498</td>\n    </tr>\n    <tr>\n      <th>17072</th>\n      <td>межотраслевой</td>\n      <td>NEUT</td>\n      <td>0.223</td>\n      <td>0.669</td>\n      <td>-0.446</td>\n    </tr>\n    <tr>\n      <th>4177</th>\n      <td>воентехник</td>\n      <td>NEUT</td>\n      <td>0.223</td>\n      <td>0.623</td>\n      <td>-0.400</td>\n    </tr>\n    <tr>\n      <th>28933</th>\n      <td>политсовет</td>\n      <td>NEUT</td>\n      <td>0.227</td>\n      <td>0.753</td>\n      <td>-0.526</td>\n    </tr>\n    <tr>\n      <th>12737</th>\n      <td>инкассатор</td>\n      <td>NEUT</td>\n      <td>0.228</td>\n      <td>0.761</td>\n      <td>-0.533</td>\n    </tr>\n    <tr>\n      <th>30750</th>\n      <td>презумпция</td>\n      <td>NEUT</td>\n      <td>0.228</td>\n      <td>0.604</td>\n      <td>-0.376</td>\n    </tr>\n  </tbody>\n</table>\n</div>"
     },
     "execution_count": 227,
     "metadata": {},
     "output_type": "execute_result"
    }
   ],
   "source": [
    "sorted_f.head(15)"
   ],
   "metadata": {
    "collapsed": false,
    "pycharm": {
     "name": "#%%\n"
    }
   }
  },
  {
   "cell_type": "markdown",
   "source": [
    "Сортируем таблицу по значениям столбца 'F - M'"
   ],
   "metadata": {
    "collapsed": false
   }
  },
  {
   "cell_type": "code",
   "execution_count": 228,
   "outputs": [],
   "source": [
    "sorted_fm = df.sort_values(by='F - M')"
   ],
   "metadata": {
    "collapsed": false,
    "pycharm": {
     "name": "#%%\n"
    }
   }
  },
  {
   "cell_type": "markdown",
   "source": [
    "График распределения значений столбца 'F - M'"
   ],
   "metadata": {
    "collapsed": false
   }
  },
  {
   "cell_type": "code",
   "execution_count": 229,
   "outputs": [
    {
     "data": {
      "text/plain": "<seaborn.axisgrid.FacetGrid at 0x7f9135bf32d0>"
     },
     "execution_count": 229,
     "metadata": {},
     "output_type": "execute_result"
    },
    {
     "data": {
      "text/plain": "<Figure size 360x360 with 1 Axes>",
      "image/png": "[encoded data removed]"
     },
     "metadata": {
      "needs_background": "light"
     },
     "output_type": "display_data"
    }
   ],
   "source": [
    "x = df['F - M'].values\n",
    "sns.set_palette('hls')\n",
    "mpl.rc('figure', figsize=(6, 4))\n",
    "sns.displot(x, bins=100, color='g', kde=True)"
   ],
   "metadata": {
    "collapsed": false,
    "pycharm": {
     "name": "#%%\n"
    }
   }
  },
  {
   "cell_type": "markdown",
   "source": [
    "Первые 15 значений с наибольшим преимуществом \"мужского\" рейтинга над \"женским\", выставленным гендерной моделью"
   ],
   "metadata": {
    "collapsed": false
   }
  },
  {
   "cell_type": "code",
   "execution_count": 230,
   "outputs": [
    {
     "data": {
      "text/plain": "                          term   tag  Female   Male  F - M\n34059              разгребание  NEUT   0.249  0.822 -0.573\n17073             межпартийный  NEUT   0.202  0.772 -0.570\n34060               разгребать  NEUT   0.188  0.747 -0.559\n9861                завотделом  NEUT   0.231  0.778 -0.547\n25300              партийность  NEUT   0.283  0.823 -0.540\n12737               инкассатор  NEUT   0.228  0.761 -0.533\n21117               нефтехимия  NEUT   0.248  0.776 -0.528\n28121               подоходный  NEUT   0.230  0.757 -0.527\n28933               политсовет  NEUT   0.227  0.753 -0.526\n5256                  выборщик  NEUT   0.266  0.790 -0.524\n19183  народно-демократический  NEUT   0.244  0.760 -0.516\n41455               трудящийся  PSTV   0.278  0.790 -0.512\n34061                разгрести  NEUT   0.231  0.741 -0.510\n189                   автопром  NEUT   0.281  0.790 -0.509\n44000                хозрасчёт  NEUT   0.286  0.794 -0.508",
      "text/html": "<div>\n<style scoped>\n    .dataframe tbody tr th:only-of-type {\n        vertical-align: middle;\n    }\n\n    .dataframe tbody tr th {\n        vertical-align: top;\n    }\n\n    .dataframe thead th {\n        text-align: right;\n    }\n</style>\n<table border=\"1\" class=\"dataframe\">\n  <thead>\n    <tr style=\"text-align: right;\">\n      <th></th>\n      <th>term</th>\n      <th>tag</th>\n      <th>Female</th>\n      <th>Male</th>\n      <th>F - M</th>\n    </tr>\n  </thead>\n  <tbody>\n    <tr>\n      <th>34059</th>\n      <td>разгребание</td>\n      <td>NEUT</td>\n      <td>0.249</td>\n      <td>0.822</td>\n      <td>-0.573</td>\n    </tr>\n    <tr>\n      <th>17073</th>\n      <td>межпартийный</td>\n      <td>NEUT</td>\n      <td>0.202</td>\n      <td>0.772</td>\n      <td>-0.570</td>\n    </tr>\n    <tr>\n      <th>34060</th>\n      <td>разгребать</td>\n      <td>NEUT</td>\n      <td>0.188</td>\n      <td>0.747</td>\n      <td>-0.559</td>\n    </tr>\n    <tr>\n      <th>9861</th>\n      <td>завотделом</td>\n      <td>NEUT</td>\n      <td>0.231</td>\n      <td>0.778</td>\n      <td>-0.547</td>\n    </tr>\n    <tr>\n      <th>25300</th>\n      <td>партийность</td>\n      <td>NEUT</td>\n      <td>0.283</td>\n      <td>0.823</td>\n      <td>-0.540</td>\n    </tr>\n    <tr>\n      <th>12737</th>\n      <td>инкассатор</td>\n      <td>NEUT</td>\n      <td>0.228</td>\n      <td>0.761</td>\n      <td>-0.533</td>\n    </tr>\n    <tr>\n      <th>21117</th>\n      <td>нефтехимия</td>\n      <td>NEUT</td>\n      <td>0.248</td>\n      <td>0.776</td>\n      <td>-0.528</td>\n    </tr>\n    <tr>\n      <th>28121</th>\n      <td>подоходный</td>\n      <td>NEUT</td>\n      <td>0.230</td>\n      <td>0.757</td>\n      <td>-0.527</td>\n    </tr>\n    <tr>\n      <th>28933</th>\n      <td>политсовет</td>\n      <td>NEUT</td>\n      <td>0.227</td>\n      <td>0.753</td>\n      <td>-0.526</td>\n    </tr>\n    <tr>\n      <th>5256</th>\n      <td>выборщик</td>\n      <td>NEUT</td>\n      <td>0.266</td>\n      <td>0.790</td>\n      <td>-0.524</td>\n    </tr>\n    <tr>\n      <th>19183</th>\n      <td>народно-демократический</td>\n      <td>NEUT</td>\n      <td>0.244</td>\n      <td>0.760</td>\n      <td>-0.516</td>\n    </tr>\n    <tr>\n      <th>41455</th>\n      <td>трудящийся</td>\n      <td>PSTV</td>\n      <td>0.278</td>\n      <td>0.790</td>\n      <td>-0.512</td>\n    </tr>\n    <tr>\n      <th>34061</th>\n      <td>разгрести</td>\n      <td>NEUT</td>\n      <td>0.231</td>\n      <td>0.741</td>\n      <td>-0.510</td>\n    </tr>\n    <tr>\n      <th>189</th>\n      <td>автопром</td>\n      <td>NEUT</td>\n      <td>0.281</td>\n      <td>0.790</td>\n      <td>-0.509</td>\n    </tr>\n    <tr>\n      <th>44000</th>\n      <td>хозрасчёт</td>\n      <td>NEUT</td>\n      <td>0.286</td>\n      <td>0.794</td>\n      <td>-0.508</td>\n    </tr>\n  </tbody>\n</table>\n</div>"
     },
     "execution_count": 230,
     "metadata": {},
     "output_type": "execute_result"
    }
   ],
   "source": [
    "sorted_fm.head(15)"
   ],
   "metadata": {
    "collapsed": false,
    "pycharm": {
     "name": "#%%\n"
    }
   }
  },
  {
   "cell_type": "markdown",
   "source": [
    "Первые 15 значений с наибольшим преимуществом \"женского\" рейтинга над \"мужским\", выставленным гендерной моделью"
   ],
   "metadata": {
    "collapsed": false
   }
  },
  {
   "cell_type": "code",
   "execution_count": 231,
   "outputs": [
    {
     "data": {
      "text/plain": "                  term   tag  Female   Male  F - M\n17339    мечтательница  PSTV   0.820  0.276  0.544\n37490       сказочница  NEUT   0.778  0.271  0.507\n454        альпинистка  NEUT   0.766  0.314  0.452\n5427         выдумщица  NEUT   0.757  0.312  0.445\n41790      убаюкивающе  PSTV   0.749  0.334  0.415\n23337       оптимистка  PSTV   0.649  0.235  0.414\n33492  путешественница  PSTV   0.758  0.351  0.407\n37822          скулила  NGTV   0.750  0.359  0.391\n42973        усыпляюще  NEUT   0.745  0.358  0.387\n8943     дрессировщица  NEUT   0.756  0.376  0.380\n22648           одеяло  PSTV   0.749  0.370  0.379\n26562      пессимистка  NGTV   0.670  0.297  0.373\n12127       идеалистка  PSTV   0.620  0.248  0.372\n41694     тьма-тьмущая  NGTV   0.666  0.294  0.372\n23508        освежающе  PSTV   0.684  0.313  0.371",
      "text/html": "<div>\n<style scoped>\n    .dataframe tbody tr th:only-of-type {\n        vertical-align: middle;\n    }\n\n    .dataframe tbody tr th {\n        vertical-align: top;\n    }\n\n    .dataframe thead th {\n        text-align: right;\n    }\n</style>\n<table border=\"1\" class=\"dataframe\">\n  <thead>\n    <tr style=\"text-align: right;\">\n      <th></th>\n      <th>term</th>\n      <th>tag</th>\n      <th>Female</th>\n      <th>Male</th>\n      <th>F - M</th>\n    </tr>\n  </thead>\n  <tbody>\n    <tr>\n      <th>17339</th>\n      <td>мечтательница</td>\n      <td>PSTV</td>\n      <td>0.820</td>\n      <td>0.276</td>\n      <td>0.544</td>\n    </tr>\n    <tr>\n      <th>37490</th>\n      <td>сказочница</td>\n      <td>NEUT</td>\n      <td>0.778</td>\n      <td>0.271</td>\n      <td>0.507</td>\n    </tr>\n    <tr>\n      <th>454</th>\n      <td>альпинистка</td>\n      <td>NEUT</td>\n      <td>0.766</td>\n      <td>0.314</td>\n      <td>0.452</td>\n    </tr>\n    <tr>\n      <th>5427</th>\n      <td>выдумщица</td>\n      <td>NEUT</td>\n      <td>0.757</td>\n      <td>0.312</td>\n      <td>0.445</td>\n    </tr>\n    <tr>\n      <th>41790</th>\n      <td>убаюкивающе</td>\n      <td>PSTV</td>\n      <td>0.749</td>\n      <td>0.334</td>\n      <td>0.415</td>\n    </tr>\n    <tr>\n      <th>23337</th>\n      <td>оптимистка</td>\n      <td>PSTV</td>\n      <td>0.649</td>\n      <td>0.235</td>\n      <td>0.414</td>\n    </tr>\n    <tr>\n      <th>33492</th>\n      <td>путешественница</td>\n      <td>PSTV</td>\n      <td>0.758</td>\n      <td>0.351</td>\n      <td>0.407</td>\n    </tr>\n    <tr>\n      <th>37822</th>\n      <td>скулила</td>\n      <td>NGTV</td>\n      <td>0.750</td>\n      <td>0.359</td>\n      <td>0.391</td>\n    </tr>\n    <tr>\n      <th>42973</th>\n      <td>усыпляюще</td>\n      <td>NEUT</td>\n      <td>0.745</td>\n      <td>0.358</td>\n      <td>0.387</td>\n    </tr>\n    <tr>\n      <th>8943</th>\n      <td>дрессировщица</td>\n      <td>NEUT</td>\n      <td>0.756</td>\n      <td>0.376</td>\n      <td>0.380</td>\n    </tr>\n    <tr>\n      <th>22648</th>\n      <td>одеяло</td>\n      <td>PSTV</td>\n      <td>0.749</td>\n      <td>0.370</td>\n      <td>0.379</td>\n    </tr>\n    <tr>\n      <th>26562</th>\n      <td>пессимистка</td>\n      <td>NGTV</td>\n      <td>0.670</td>\n      <td>0.297</td>\n      <td>0.373</td>\n    </tr>\n    <tr>\n      <th>12127</th>\n      <td>идеалистка</td>\n      <td>PSTV</td>\n      <td>0.620</td>\n      <td>0.248</td>\n      <td>0.372</td>\n    </tr>\n    <tr>\n      <th>41694</th>\n      <td>тьма-тьмущая</td>\n      <td>NGTV</td>\n      <td>0.666</td>\n      <td>0.294</td>\n      <td>0.372</td>\n    </tr>\n    <tr>\n      <th>23508</th>\n      <td>освежающе</td>\n      <td>PSTV</td>\n      <td>0.684</td>\n      <td>0.313</td>\n      <td>0.371</td>\n    </tr>\n  </tbody>\n</table>\n</div>"
     },
     "execution_count": 231,
     "metadata": {},
     "output_type": "execute_result"
    }
   ],
   "source": [
    "sorted_fm.tail(15).sort_values(by='F - M', ascending=False)"
   ],
   "metadata": {
    "collapsed": false,
    "pycharm": {
     "name": "#%%\n"
    }
   }
  },
  {
   "cell_type": "markdown",
   "source": [
    "Статистика по новым, гендерным столбцам"
   ],
   "metadata": {
    "collapsed": false
   }
  },
  {
   "cell_type": "code",
   "execution_count": 232,
   "outputs": [
    {
     "data": {
      "text/plain": "             Female          Male         F - M\ncount  46127.000000  46127.000000  46127.000000\nmean       0.499573      0.627804     -0.128231\nstd        0.088715      0.072125      0.133347\nmin        0.185000      0.235000     -0.573000\n25%        0.437000      0.583000     -0.222000\n50%        0.497000      0.633000     -0.136000\n75%        0.561000      0.678000     -0.043000\nmax        0.820000      0.840000      0.544000",
      "text/html": "<div>\n<style scoped>\n    .dataframe tbody tr th:only-of-type {\n        vertical-align: middle;\n    }\n\n    .dataframe tbody tr th {\n        vertical-align: top;\n    }\n\n    .dataframe thead th {\n        text-align: right;\n    }\n</style>\n<table border=\"1\" class=\"dataframe\">\n  <thead>\n    <tr style=\"text-align: right;\">\n      <th></th>\n      <th>Female</th>\n      <th>Male</th>\n      <th>F - M</th>\n    </tr>\n  </thead>\n  <tbody>\n    <tr>\n      <th>count</th>\n      <td>46127.000000</td>\n      <td>46127.000000</td>\n      <td>46127.000000</td>\n    </tr>\n    <tr>\n      <th>mean</th>\n      <td>0.499573</td>\n      <td>0.627804</td>\n      <td>-0.128231</td>\n    </tr>\n    <tr>\n      <th>std</th>\n      <td>0.088715</td>\n      <td>0.072125</td>\n      <td>0.133347</td>\n    </tr>\n    <tr>\n      <th>min</th>\n      <td>0.185000</td>\n      <td>0.235000</td>\n      <td>-0.573000</td>\n    </tr>\n    <tr>\n      <th>25%</th>\n      <td>0.437000</td>\n      <td>0.583000</td>\n      <td>-0.222000</td>\n    </tr>\n    <tr>\n      <th>50%</th>\n      <td>0.497000</td>\n      <td>0.633000</td>\n      <td>-0.136000</td>\n    </tr>\n    <tr>\n      <th>75%</th>\n      <td>0.561000</td>\n      <td>0.678000</td>\n      <td>-0.043000</td>\n    </tr>\n    <tr>\n      <th>max</th>\n      <td>0.820000</td>\n      <td>0.840000</td>\n      <td>0.544000</td>\n    </tr>\n  </tbody>\n</table>\n</div>"
     },
     "execution_count": 232,
     "metadata": {},
     "output_type": "execute_result"
    }
   ],
   "source": [
    "df.describe()"
   ],
   "metadata": {
    "collapsed": false,
    "pycharm": {
     "name": "#%%\n"
    }
   }
  },
  {
   "cell_type": "markdown",
   "source": [
    "Пусть (3F + SF, 3M + SM) - пара чисел, где 3F - третий квартиль, SF - стандартное отклонение столбца значений\n",
    "'Female'; 3M - третий квартиль, SM - стандартное отклонение столбца значений 'Male' элементов DATA-SG.\n",
    "Будем говорить, что элемент обладает модельной гендерной выразительностью (mge - model gender expression),\n",
    "если хотя бы одно из его значений F или М оказалось больше либо равно соответствующего (3F + SF, 3M + SM). Т.е. элемент\n",
    "обладающий mge, может быть mfe (model female expression), mme (model male expression) или mfme (model female&male\n",
    "expression)."
   ],
   "metadata": {
    "collapsed": false,
    "pycharm": {
     "name": "#%% md\n"
    }
   }
  },
  {
   "cell_type": "code",
   "execution_count": 233,
   "outputs": [],
   "source": [
    "lim_m = df['Male'].quantile(q=0.75) + df['Male'].std()\n",
    "df_mme = df.loc[df['Male'] >= lim_m]\n",
    "\n",
    "lim_f = df['Female'].quantile(q=0.75) + df['Female'].std()\n",
    "df_mfe = df.loc[df['Female'] >= lim_f]"
   ],
   "metadata": {
    "collapsed": false,
    "pycharm": {
     "name": "#%%\n"
    }
   }
  },
  {
   "cell_type": "markdown",
   "source": [
    "Информация о количестве элементов, обладающих модельной \"мужской\" выразительностью (mme)"
   ],
   "metadata": {
    "collapsed": false
   }
  },
  {
   "cell_type": "code",
   "execution_count": 234,
   "outputs": [
    {
     "data": {
      "text/plain": "(1339, 5)"
     },
     "execution_count": 234,
     "metadata": {},
     "output_type": "execute_result"
    }
   ],
   "source": [
    "df_mme.shape"
   ],
   "metadata": {
    "collapsed": false,
    "pycharm": {
     "name": "#%%\n"
    }
   }
  },
  {
   "cell_type": "markdown",
   "source": [
    "Информация о количестве элементов, обладающих модельной \"женской\" выразительностью (mfe)"
   ],
   "metadata": {
    "collapsed": false
   }
  },
  {
   "cell_type": "code",
   "execution_count": 235,
   "outputs": [
    {
     "data": {
      "text/plain": "(2330, 5)"
     },
     "execution_count": 235,
     "metadata": {},
     "output_type": "execute_result"
    }
   ],
   "source": [
    "df_mfe.shape"
   ],
   "metadata": {
    "collapsed": false,
    "pycharm": {
     "name": "#%%\n"
    }
   }
  },
  {
   "cell_type": "markdown",
   "source": [
    "Посмотрим, есть ли элементы в датасете, которые одновременно обладают \"женской\" и \"мужской\" выразительностью"
   ],
   "metadata": {
    "collapsed": false
   }
  },
  {
   "cell_type": "code",
   "execution_count": 236,
   "outputs": [
    {
     "data": {
      "text/plain": "(0, 5)"
     },
     "execution_count": 236,
     "metadata": {},
     "output_type": "execute_result"
    }
   ],
   "source": [
    "df_mfme = pd.merge(df_mme, df_mfe, how='inner')\n",
    "df_mfme.shape"
   ],
   "metadata": {
    "collapsed": false,
    "pycharm": {
     "name": "#%%\n"
    }
   }
  },
  {
   "cell_type": "markdown",
   "source": [
    "Таким образом, в датасете DATA-SG множества элементов из mfe и mme не пересекаются"
   ],
   "metadata": {
    "collapsed": false
   }
  },
  {
   "cell_type": "markdown",
   "source": [
    "В столбце 'F - M' датасета DATA-SG для каждого элемента записана разность соответствующих значений столбцов\n",
    "'Female' и 'Male'. Т.е., если значение положительное, то значение в 'Female' больше значения в 'Male', и наоборот.\n",
    "Обозначим через 1D первый квартиль, 3D третий квартиль SD - стандратное отклонение столбца значений 'F - M' элементов\n",
    "DATA-SG. Будем говорить, что элемент обладает модельной яркой гендерной выразительностью (mhge - model high gender\n",
    "expression), если одновременно выполняются два условия: 1) элемент является mge (обладает модельной гендерной\n",
    "выразительностью) и 2) значение в столбце 'F - M' для элемента больше или равно (3D + SD), если элемент mfe или, если\n",
    "элемент mme, значение в столбце 'F - M' меньше или равно (1D - SD).\n",
    "С учетом того, что mme и mfe не пересекаются, элементы mhge удовлетворяющие перечисленным условиям, могут быть mhfe\n",
    "(model high female expression) или mhme (model high male expression) соответственно."
   ],
   "metadata": {
    "collapsed": false
   }
  },
  {
   "cell_type": "code",
   "execution_count": 237,
   "outputs": [],
   "source": [
    "lim_m = df['Male'].quantile(q=0.75) + df['Male'].std()\n",
    "delta_mf = df['F - M'].quantile(q=0.25) - df['F - M'].std()\n",
    "df_mhme = df.loc[(df['Male'] >= lim_m) & (df['F - M'] <= delta_mf)]\n",
    "\n",
    "\n",
    "lim_f = df['Female'].quantile(q=0.75) + df['Female'].std()\n",
    "delta_fm = df['F - M'].quantile(q=0.75) + df['F - M'].std()\n",
    "df_mhfe = df.loc[(df['Female'] >= lim_f) & (df['F - M'] >= delta_fm)]"
   ],
   "metadata": {
    "collapsed": false,
    "pycharm": {
     "name": "#%%\n"
    }
   }
  },
  {
   "cell_type": "markdown",
   "source": [
    "Информация о количестве элементов, обладающих модельной яркой \"мужской\" выразительностью (mhme)"
   ],
   "metadata": {
    "collapsed": false
   }
  },
  {
   "cell_type": "code",
   "execution_count": 238,
   "outputs": [
    {
     "data": {
      "text/plain": "(520, 5)"
     },
     "execution_count": 238,
     "metadata": {},
     "output_type": "execute_result"
    }
   ],
   "source": [
    "df_mhme.shape"
   ],
   "metadata": {
    "collapsed": false,
    "pycharm": {
     "name": "#%%\n"
    }
   }
  },
  {
   "cell_type": "markdown",
   "source": [
    "Информация о количестве элементов, обладающих модельной яркой \"женской\" выразительностью (mhfe)"
   ],
   "metadata": {
    "collapsed": false
   }
  },
  {
   "cell_type": "code",
   "execution_count": 239,
   "outputs": [
    {
     "data": {
      "text/plain": "(1517, 5)"
     },
     "execution_count": 239,
     "metadata": {},
     "output_type": "execute_result"
    }
   ],
   "source": [
    "df_mhfe.shape"
   ],
   "metadata": {
    "collapsed": false,
    "pycharm": {
     "name": "#%%\n"
    }
   }
  },
  {
   "cell_type": "markdown",
   "source": [
    "### Гипотеза\n",
    "Модельная гендерная выразительность датасета влияет на отношение количества Поизитивных и Негативных элементов. При\n",
    "этом, если модельный датасет \"мужской\", то Негативных элементов окажется значимо больше, чем Позитивных по сравнению с\n",
    "исходным датасетом.\n",
    "Если модельный датасет \"женский\", то Позитивных элементов окажется значимо больше, чем Негативных по сравнению с\n",
    "исходным датасетом.\n",
    "Также предполагается существенное отличие в процентном отношении между Позитивными и Негативными элементами в\n",
    "модельных \"мужских\" и \"женских\" датасетах."
   ],
   "metadata": {
    "collapsed": false
   }
  },
  {
   "cell_type": "markdown",
   "source": [
    "Рассмотрим четыре типа датасетов, разделенных по гендерным признакам:\n",
    "1. Один общий датасет df из DATA-SG, без учета гендерных различий\n",
    "2. Два датасета 3f и 3m, разделенных по гендерному признаку, со значениями больше квартилей 3F или 3M соответственно.\n",
    "3. Два датасета с модельной гендерной выразительностью mfe, mme о которых шла речь ранее. К ограничениям по квартилям в\n",
    "них добавлены соответствующие стандартные отклонения SF и SM.\n",
    "4. Два датасета с модельной яркой гендерной выразительностью mhfe, mhme, где наложены дополнительные ограничения по\n",
    "значениям из столбца 'F - M'"
   ],
   "metadata": {
    "collapsed": false
   }
  },
  {
   "cell_type": "markdown",
   "source": [
    "Сформируем датасеты из п.2"
   ],
   "metadata": {
    "collapsed": false
   }
  },
  {
   "cell_type": "code",
   "execution_count": 240,
   "outputs": [],
   "source": [
    "df_3f = df.loc[df['Female'] >= df['Female'].quantile(q=0.75)]\n",
    "df_3m = df.loc[df['Male'] >= df['Male'].quantile(q=0.75)]"
   ],
   "metadata": {
    "collapsed": false,
    "pycharm": {
     "name": "#%%\n"
    }
   }
  },
  {
   "cell_type": "markdown",
   "source": [
    "Посмотрим, есть ли элементы в датасетах, попавшие в каждый"
   ],
   "metadata": {
    "collapsed": false
   }
  },
  {
   "cell_type": "code",
   "execution_count": 241,
   "outputs": [
    {
     "data": {
      "text/plain": "(1101, 5)"
     },
     "execution_count": 241,
     "metadata": {},
     "output_type": "execute_result"
    }
   ],
   "source": [
    "df_3fm = pd.merge(df_3m, df_3f, how='inner')\n",
    "df_3fm.shape"
   ],
   "metadata": {
    "collapsed": false,
    "pycharm": {
     "name": "#%%\n"
    }
   }
  },
  {
   "cell_type": "markdown",
   "source": [
    "Получается, что в \"серую зону\" стандартного отклонения попало довольно много элементов.\n",
    "Посмотрим на некоторые из них."
   ],
   "metadata": {
    "collapsed": false
   }
  },
  {
   "cell_type": "markdown",
   "source": [
    "Сначала несколько, у которых более выражены \"женские\" значения"
   ],
   "metadata": {
    "collapsed": false
   }
  },
  {
   "cell_type": "code",
   "execution_count": 242,
   "outputs": [
    {
     "data": {
      "text/plain": "              term   tag  Female   Male  F - M\n95          венчик  NEUT   0.723  0.686  0.037\n317         зубчик  NEUT   0.695  0.683  0.012\n381      колючесть  NGTV   0.704  0.695  0.009\n601          отлёт  NEUT   0.720  0.697  0.023\n688      полумесяц  NEUT   0.701  0.685  0.016\n716   предвкушение  PSTV   0.724  0.680  0.044\n785          пупок  NEUT   0.702  0.696  0.006\n1031     хэппи-энд  PSTV   0.693  0.685  0.008\n1046    чернолесье  NEUT   0.702  0.678  0.024",
      "text/html": "<div>\n<style scoped>\n    .dataframe tbody tr th:only-of-type {\n        vertical-align: middle;\n    }\n\n    .dataframe tbody tr th {\n        vertical-align: top;\n    }\n\n    .dataframe thead th {\n        text-align: right;\n    }\n</style>\n<table border=\"1\" class=\"dataframe\">\n  <thead>\n    <tr style=\"text-align: right;\">\n      <th></th>\n      <th>term</th>\n      <th>tag</th>\n      <th>Female</th>\n      <th>Male</th>\n      <th>F - M</th>\n    </tr>\n  </thead>\n  <tbody>\n    <tr>\n      <th>95</th>\n      <td>венчик</td>\n      <td>NEUT</td>\n      <td>0.723</td>\n      <td>0.686</td>\n      <td>0.037</td>\n    </tr>\n    <tr>\n      <th>317</th>\n      <td>зубчик</td>\n      <td>NEUT</td>\n      <td>0.695</td>\n      <td>0.683</td>\n      <td>0.012</td>\n    </tr>\n    <tr>\n      <th>381</th>\n      <td>колючесть</td>\n      <td>NGTV</td>\n      <td>0.704</td>\n      <td>0.695</td>\n      <td>0.009</td>\n    </tr>\n    <tr>\n      <th>601</th>\n      <td>отлёт</td>\n      <td>NEUT</td>\n      <td>0.720</td>\n      <td>0.697</td>\n      <td>0.023</td>\n    </tr>\n    <tr>\n      <th>688</th>\n      <td>полумесяц</td>\n      <td>NEUT</td>\n      <td>0.701</td>\n      <td>0.685</td>\n      <td>0.016</td>\n    </tr>\n    <tr>\n      <th>716</th>\n      <td>предвкушение</td>\n      <td>PSTV</td>\n      <td>0.724</td>\n      <td>0.680</td>\n      <td>0.044</td>\n    </tr>\n    <tr>\n      <th>785</th>\n      <td>пупок</td>\n      <td>NEUT</td>\n      <td>0.702</td>\n      <td>0.696</td>\n      <td>0.006</td>\n    </tr>\n    <tr>\n      <th>1031</th>\n      <td>хэппи-энд</td>\n      <td>PSTV</td>\n      <td>0.693</td>\n      <td>0.685</td>\n      <td>0.008</td>\n    </tr>\n    <tr>\n      <th>1046</th>\n      <td>чернолесье</td>\n      <td>NEUT</td>\n      <td>0.702</td>\n      <td>0.678</td>\n      <td>0.024</td>\n    </tr>\n  </tbody>\n</table>\n</div>"
     },
     "execution_count": 242,
     "metadata": {},
     "output_type": "execute_result"
    }
   ],
   "source": [
    "df_3fm.loc[df_3fm['F - M'] > 0].head(15)"
   ],
   "metadata": {
    "collapsed": false,
    "pycharm": {
     "name": "#%%\n"
    }
   }
  },
  {
   "cell_type": "markdown",
   "source": [
    "И несколько, у которых более выражены \"муские\" значения"
   ],
   "metadata": {
    "collapsed": false
   }
  },
  {
   "cell_type": "code",
   "execution_count": 243,
   "outputs": [
    {
     "data": {
      "text/plain": "           term   tag  Female   Male  F - M\n0     авианалёт  NGTV   0.656  0.687 -0.031\n1        акация  NEUT   0.619  0.683 -0.064\n2   активизация  NEUT   0.572  0.704 -0.132\n3      алкалоид  NEUT   0.696  0.700 -0.004\n4    аллегоризм  NEUT   0.624  0.683 -0.059\n5         алмаз  PSTV   0.565  0.734 -0.169\n6     альбатрос  NEUT   0.639  0.699 -0.060\n7      альбинос  NEUT   0.571  0.760 -0.189\n8         альфа  NEUT   0.583  0.682 -0.099\n9      амнистия  PSTV   0.573  0.695 -0.122\n10       ампула  NEUT   0.626  0.690 -0.064\n11    амфетамин  NGTV   0.586  0.708 -0.122\n12       амфора  NEUT   0.580  0.709 -0.129\n13     анаконда  NEUT   0.591  0.689 -0.098\n14     аномалия  NGTV   0.581  0.733 -0.152",
      "text/html": "<div>\n<style scoped>\n    .dataframe tbody tr th:only-of-type {\n        vertical-align: middle;\n    }\n\n    .dataframe tbody tr th {\n        vertical-align: top;\n    }\n\n    .dataframe thead th {\n        text-align: right;\n    }\n</style>\n<table border=\"1\" class=\"dataframe\">\n  <thead>\n    <tr style=\"text-align: right;\">\n      <th></th>\n      <th>term</th>\n      <th>tag</th>\n      <th>Female</th>\n      <th>Male</th>\n      <th>F - M</th>\n    </tr>\n  </thead>\n  <tbody>\n    <tr>\n      <th>0</th>\n      <td>авианалёт</td>\n      <td>NGTV</td>\n      <td>0.656</td>\n      <td>0.687</td>\n      <td>-0.031</td>\n    </tr>\n    <tr>\n      <th>1</th>\n      <td>акация</td>\n      <td>NEUT</td>\n      <td>0.619</td>\n      <td>0.683</td>\n      <td>-0.064</td>\n    </tr>\n    <tr>\n      <th>2</th>\n      <td>активизация</td>\n      <td>NEUT</td>\n      <td>0.572</td>\n      <td>0.704</td>\n      <td>-0.132</td>\n    </tr>\n    <tr>\n      <th>3</th>\n      <td>алкалоид</td>\n      <td>NEUT</td>\n      <td>0.696</td>\n      <td>0.700</td>\n      <td>-0.004</td>\n    </tr>\n    <tr>\n      <th>4</th>\n      <td>аллегоризм</td>\n      <td>NEUT</td>\n      <td>0.624</td>\n      <td>0.683</td>\n      <td>-0.059</td>\n    </tr>\n    <tr>\n      <th>5</th>\n      <td>алмаз</td>\n      <td>PSTV</td>\n      <td>0.565</td>\n      <td>0.734</td>\n      <td>-0.169</td>\n    </tr>\n    <tr>\n      <th>6</th>\n      <td>альбатрос</td>\n      <td>NEUT</td>\n      <td>0.639</td>\n      <td>0.699</td>\n      <td>-0.060</td>\n    </tr>\n    <tr>\n      <th>7</th>\n      <td>альбинос</td>\n      <td>NEUT</td>\n      <td>0.571</td>\n      <td>0.760</td>\n      <td>-0.189</td>\n    </tr>\n    <tr>\n      <th>8</th>\n      <td>альфа</td>\n      <td>NEUT</td>\n      <td>0.583</td>\n      <td>0.682</td>\n      <td>-0.099</td>\n    </tr>\n    <tr>\n      <th>9</th>\n      <td>амнистия</td>\n      <td>PSTV</td>\n      <td>0.573</td>\n      <td>0.695</td>\n      <td>-0.122</td>\n    </tr>\n    <tr>\n      <th>10</th>\n      <td>ампула</td>\n      <td>NEUT</td>\n      <td>0.626</td>\n      <td>0.690</td>\n      <td>-0.064</td>\n    </tr>\n    <tr>\n      <th>11</th>\n      <td>амфетамин</td>\n      <td>NGTV</td>\n      <td>0.586</td>\n      <td>0.708</td>\n      <td>-0.122</td>\n    </tr>\n    <tr>\n      <th>12</th>\n      <td>амфора</td>\n      <td>NEUT</td>\n      <td>0.580</td>\n      <td>0.709</td>\n      <td>-0.129</td>\n    </tr>\n    <tr>\n      <th>13</th>\n      <td>анаконда</td>\n      <td>NEUT</td>\n      <td>0.591</td>\n      <td>0.689</td>\n      <td>-0.098</td>\n    </tr>\n    <tr>\n      <th>14</th>\n      <td>аномалия</td>\n      <td>NGTV</td>\n      <td>0.581</td>\n      <td>0.733</td>\n      <td>-0.152</td>\n    </tr>\n  </tbody>\n</table>\n</div>"
     },
     "execution_count": 243,
     "metadata": {},
     "output_type": "execute_result"
    }
   ],
   "source": [
    "df_3fm.loc[df_3fm['F - M'] < 0].head(15)"
   ],
   "metadata": {
    "collapsed": false,
    "pycharm": {
     "name": "#%%\n"
    }
   }
  },
  {
   "cell_type": "markdown",
   "source": [
    "Возвращаемся к гипотезе. У нас готовы датасеты для каждого из четырех заявленных типов. Проведем числовой и, для большей\n",
    " наглядности, процентный сентимент-анализ параллельно для \"мужских\" и \"женских\" датасетов"
   ],
   "metadata": {
    "collapsed": false
   }
  },
  {
   "cell_type": "markdown",
   "source": [
    "Числовой сентримент-анализ для \"мужских\" датасетов"
   ],
   "metadata": {
    "collapsed": false
   }
  },
  {
   "cell_type": "code",
   "execution_count": 244,
   "outputs": [
    {
     "data": {
      "text/plain": "         df  df_3m  df_mme  df_mhme\nNEUT  28049   6231     585      248\nNGTV  11863   3840     585      213\nPSTV   6215   1636     169       59",
      "text/html": "<div>\n<style scoped>\n    .dataframe tbody tr th:only-of-type {\n        vertical-align: middle;\n    }\n\n    .dataframe tbody tr th {\n        vertical-align: top;\n    }\n\n    .dataframe thead th {\n        text-align: right;\n    }\n</style>\n<table border=\"1\" class=\"dataframe\">\n  <thead>\n    <tr style=\"text-align: right;\">\n      <th></th>\n      <th>df</th>\n      <th>df_3m</th>\n      <th>df_mme</th>\n      <th>df_mhme</th>\n    </tr>\n  </thead>\n  <tbody>\n    <tr>\n      <th>NEUT</th>\n      <td>28049</td>\n      <td>6231</td>\n      <td>585</td>\n      <td>248</td>\n    </tr>\n    <tr>\n      <th>NGTV</th>\n      <td>11863</td>\n      <td>3840</td>\n      <td>585</td>\n      <td>213</td>\n    </tr>\n    <tr>\n      <th>PSTV</th>\n      <td>6215</td>\n      <td>1636</td>\n      <td>169</td>\n      <td>59</td>\n    </tr>\n  </tbody>\n</table>\n</div>"
     },
     "execution_count": 244,
     "metadata": {},
     "output_type": "execute_result"
    }
   ],
   "source": [
    "df_num_sent_m = pd.DataFrame()\n",
    "df_num_sent_m['df'] = df['tag'].value_counts()\n",
    "df_num_sent_m['df_3m'] = df_3m['tag'].value_counts()\n",
    "df_num_sent_m['df_mme'] = df_mme['tag'].value_counts()\n",
    "df_num_sent_m['df_mhme'] = df_mhme['tag'].value_counts()\n",
    "df_num_sent_m"
   ],
   "metadata": {
    "collapsed": false,
    "pycharm": {
     "name": "#%%\n"
    }
   }
  },
  {
   "cell_type": "markdown",
   "source": [
    "Числовой сентримент-анализ для \"жекских\" датасетов"
   ],
   "metadata": {
    "collapsed": false
   }
  },
  {
   "cell_type": "code",
   "execution_count": 245,
   "outputs": [
    {
     "data": {
      "text/plain": "         df  df_3f  df_mfe  df_mhfe\nNEUT  28049   7358    1436      915\nNGTV  11863   2220     306      166\nPSTV   6215   1961     588      436",
      "text/html": "<div>\n<style scoped>\n    .dataframe tbody tr th:only-of-type {\n        vertical-align: middle;\n    }\n\n    .dataframe tbody tr th {\n        vertical-align: top;\n    }\n\n    .dataframe thead th {\n        text-align: right;\n    }\n</style>\n<table border=\"1\" class=\"dataframe\">\n  <thead>\n    <tr style=\"text-align: right;\">\n      <th></th>\n      <th>df</th>\n      <th>df_3f</th>\n      <th>df_mfe</th>\n      <th>df_mhfe</th>\n    </tr>\n  </thead>\n  <tbody>\n    <tr>\n      <th>NEUT</th>\n      <td>28049</td>\n      <td>7358</td>\n      <td>1436</td>\n      <td>915</td>\n    </tr>\n    <tr>\n      <th>NGTV</th>\n      <td>11863</td>\n      <td>2220</td>\n      <td>306</td>\n      <td>166</td>\n    </tr>\n    <tr>\n      <th>PSTV</th>\n      <td>6215</td>\n      <td>1961</td>\n      <td>588</td>\n      <td>436</td>\n    </tr>\n  </tbody>\n</table>\n</div>"
     },
     "execution_count": 245,
     "metadata": {},
     "output_type": "execute_result"
    }
   ],
   "source": [
    "df_num_sent_f = pd.DataFrame()\n",
    "df_num_sent_f['df'] = df['tag'].value_counts()\n",
    "df_num_sent_f['df_3f'] = df_3f['tag'].value_counts()\n",
    "df_num_sent_f['df_mfe'] = df_mfe['tag'].value_counts()\n",
    "df_num_sent_f['df_mhfe'] = df_mhfe['tag'].value_counts()\n",
    "df_num_sent_f"
   ],
   "metadata": {
    "collapsed": false,
    "pycharm": {
     "name": "#%%\n"
    }
   }
  },
  {
   "cell_type": "markdown",
   "source": [
    "Процентный сентримент-анализ для \"мужских\" датасетов"
   ],
   "metadata": {
    "collapsed": false
   }
  },
  {
   "cell_type": "code",
   "execution_count": 246,
   "outputs": [
    {
     "data": {
      "text/plain": "            df     df_3m    df_mme   df_mhme\nNEUT  0.608082  0.532246  0.436893  0.476923\nNGTV  0.257181  0.328009  0.436893  0.409615\nPSTV  0.134737  0.139745  0.126214  0.113462",
      "text/html": "<div>\n<style scoped>\n    .dataframe tbody tr th:only-of-type {\n        vertical-align: middle;\n    }\n\n    .dataframe tbody tr th {\n        vertical-align: top;\n    }\n\n    .dataframe thead th {\n        text-align: right;\n    }\n</style>\n<table border=\"1\" class=\"dataframe\">\n  <thead>\n    <tr style=\"text-align: right;\">\n      <th></th>\n      <th>df</th>\n      <th>df_3m</th>\n      <th>df_mme</th>\n      <th>df_mhme</th>\n    </tr>\n  </thead>\n  <tbody>\n    <tr>\n      <th>NEUT</th>\n      <td>0.608082</td>\n      <td>0.532246</td>\n      <td>0.436893</td>\n      <td>0.476923</td>\n    </tr>\n    <tr>\n      <th>NGTV</th>\n      <td>0.257181</td>\n      <td>0.328009</td>\n      <td>0.436893</td>\n      <td>0.409615</td>\n    </tr>\n    <tr>\n      <th>PSTV</th>\n      <td>0.134737</td>\n      <td>0.139745</td>\n      <td>0.126214</td>\n      <td>0.113462</td>\n    </tr>\n  </tbody>\n</table>\n</div>"
     },
     "execution_count": 246,
     "metadata": {},
     "output_type": "execute_result"
    }
   ],
   "source": [
    "df_perc_sent_m = pd.DataFrame()\n",
    "df_perc_sent_m['df'] = df['tag'].value_counts(normalize=True)\n",
    "df_perc_sent_m['df_3m'] = df_3m['tag'].value_counts(normalize=True)\n",
    "df_perc_sent_m['df_mme'] = df_mme['tag'].value_counts(normalize=True)\n",
    "df_perc_sent_m['df_mhme'] = df_mhme['tag'].value_counts(normalize=True)\n",
    "df_perc_sent_m"
   ],
   "metadata": {
    "collapsed": false,
    "pycharm": {
     "name": "#%%\n"
    }
   }
  },
  {
   "cell_type": "markdown",
   "source": [
    "Числовой сентримент-анализ для \"жекских\" датасетов"
   ],
   "metadata": {
    "collapsed": false
   }
  },
  {
   "cell_type": "code",
   "execution_count": 247,
   "outputs": [
    {
     "data": {
      "text/plain": "            df     df_3f    df_mfe   df_mhfe\nNEUT  0.608082  0.637664  0.616309  0.603164\nNGTV  0.257181  0.192391  0.131330  0.109426\nPSTV  0.134737  0.169945  0.252361  0.287409",
      "text/html": "<div>\n<style scoped>\n    .dataframe tbody tr th:only-of-type {\n        vertical-align: middle;\n    }\n\n    .dataframe tbody tr th {\n        vertical-align: top;\n    }\n\n    .dataframe thead th {\n        text-align: right;\n    }\n</style>\n<table border=\"1\" class=\"dataframe\">\n  <thead>\n    <tr style=\"text-align: right;\">\n      <th></th>\n      <th>df</th>\n      <th>df_3f</th>\n      <th>df_mfe</th>\n      <th>df_mhfe</th>\n    </tr>\n  </thead>\n  <tbody>\n    <tr>\n      <th>NEUT</th>\n      <td>0.608082</td>\n      <td>0.637664</td>\n      <td>0.616309</td>\n      <td>0.603164</td>\n    </tr>\n    <tr>\n      <th>NGTV</th>\n      <td>0.257181</td>\n      <td>0.192391</td>\n      <td>0.131330</td>\n      <td>0.109426</td>\n    </tr>\n    <tr>\n      <th>PSTV</th>\n      <td>0.134737</td>\n      <td>0.169945</td>\n      <td>0.252361</td>\n      <td>0.287409</td>\n    </tr>\n  </tbody>\n</table>\n</div>"
     },
     "execution_count": 247,
     "metadata": {},
     "output_type": "execute_result"
    }
   ],
   "source": [
    "df_perc_sent_f = pd.DataFrame()\n",
    "df_perc_sent_f['df'] = df['tag'].value_counts(normalize=True)\n",
    "df_perc_sent_f['df_3f'] = df_3f['tag'].value_counts(normalize=True)\n",
    "df_perc_sent_f['df_mfe'] = df_mfe['tag'].value_counts(normalize=True)\n",
    "df_perc_sent_f['df_mhfe'] = df_mhfe['tag'].value_counts(normalize=True)\n",
    "df_perc_sent_f"
   ],
   "metadata": {
    "collapsed": false,
    "pycharm": {
     "name": "#%%\n"
    }
   }
  },
  {
   "cell_type": "markdown",
   "source": [
    "## Выводы"
   ],
   "metadata": {
    "collapsed": false
   }
  },
  {
   "cell_type": "markdown",
   "source": [
    "1. Модель выделила связь между тональностью языка и гендером"
   ],
   "metadata": {
    "collapsed": false
   }
  },
  {
   "cell_type": "markdown",
   "source": [
    "2. В модельных \"мужских\" датасетах Негативно окрашенных элементов оказалось на 15 процентов больше, чем в исходном"
   ],
   "metadata": {
    "collapsed": false
   }
  },
  {
   "cell_type": "markdown",
   "source": [
    "3. В модельных \"мужских\" датасетах Негативно окрашенных элементов оказалось в 3.5 раза больше, чем Позитивных. При\n",
    "этом, в исходном датасете Негативных больше, чем Позитивных всего в 2 раза"
   ],
   "metadata": {
    "collapsed": false
   }
  },
  {
   "cell_type": "markdown",
   "source": [
    "4. В модельных \"женских\" датасетах Позитивно окрашенных элементов в процентном отношении оказалось в 2 с лишним раза\n",
    "больше, а Негативных в 2.5 раза меньше по сравнению с исходным датасетом. При этом процент Нейтральных элементов по\n",
    "сравнению с исходным датасетром практически не изменялся."
   ],
   "metadata": {
    "collapsed": false
   }
  },
  {
   "cell_type": "markdown",
   "source": [
    "5. В модельных \"женских\" датасетах Позитивно окрашенных элементов в процентном отношении оказалось в среднем в 2.5 раза\n",
    "больше, а Негативных почти в 4 раза меньше по сравнению с модельным \"мужским\" датасетом. Нейтральных элементов оказалось\n",
    "примерно на 15 процентов больше по сравнению с модельным \"мужским\" датасетом."
   ],
   "metadata": {
    "collapsed": false
   }
  },
  {
   "cell_type": "markdown",
   "source": [
    "В завершении два списка из датасетов с модельной яркой гендерной выразительностью mhfe, mhme."
   ],
   "metadata": {
    "collapsed": false
   }
  },
  {
   "cell_type": "markdown",
   "source": [
    "Список из mhme с модельной яркой \"мужской\" выразительностью"
   ],
   "metadata": {
    "collapsed": false
   }
  },
  {
   "cell_type": "code",
   "execution_count": 248,
   "outputs": [
    {
     "name": "stdout",
     "output_type": "stream",
     "text": [
      "аварийность\n",
      "авиаконструктор\n",
      "авианаводчик\n",
      "автозавод\n",
      "автопром\n",
      "актив\n",
      "актёр\n",
      "актёришка\n",
      "акциз\n",
      "аморальность\n",
      "антигуманность\n",
      "антиквар\n",
      "антикоммунизм\n",
      "антипатриотизм\n",
      "антисталинизм\n",
      "асоциальность\n",
      "асфальтоукладчик\n",
      "бас-гитарист\n",
      "безбородый\n",
      "бездарность\n",
      "безрезультатность\n",
      "безуспешность\n",
      "безынициативность\n",
      "белобородый\n",
      "бенефициар\n",
      "бензин\n",
      "бензозаправщик\n",
      "бесперспективность\n",
      "бесполезность\n",
      "бесхребетность\n",
      "блудный\n",
      "богомольный\n",
      "большевик\n",
      "бородавка\n",
      "бородатый\n",
      "братан\n",
      "брательник\n",
      "братец\n",
      "браться\n",
      "брезгливость\n",
      "бумагомарание\n",
      "буржуазность\n",
      "валить\n",
      "вдаваться\n",
      "взяткодательство\n",
      "видный\n",
      "виноватость\n",
      "виновность\n",
      "виолончелист\n",
      "влачить\n",
      "вникать\n",
      "вникнуть\n",
      "воздавать\n",
      "возместить\n",
      "возмещать\n",
      "вольноопределяющийся\n",
      "восполниться\n",
      "восполнять\n",
      "востребованность\n",
      "всесторонность\n",
      "вторичность\n",
      "вшивость\n",
      "выборность\n",
      "выборщик\n",
      "выбывание\n",
      "выручка\n",
      "вытекание\n",
      "вычёркивание\n",
      "геологоразведка\n",
      "гетеросексуал\n",
      "гиперинфляция\n",
      "глубокоуважаемый\n",
      "гнилость\n",
      "горючесть\n",
      "грабительство\n",
      "деградация\n",
      "дегтярный\n",
      "делёж\n",
      "демократ\n",
      "депутатский\n",
      "дефицит\n",
      "дефицитность\n",
      "дивиденд\n",
      "дивидендный\n",
      "диссонанс\n",
      "длиннобородый\n",
      "доблестный\n",
      "добросовестность\n",
      "добросовестный\n",
      "дожимать\n",
      "дойти\n",
      "доскональность\n",
      "досмотр\n",
      "дотация\n",
      "доходность\n",
      "драгметалл\n",
      "друган\n",
      "дружище\n",
      "железоделательный\n",
      "женатый\n",
      "завотделом\n",
      "заглаживать\n",
      "задерживать\n",
      "задолженность\n",
      "зазорный\n",
      "законность\n",
      "закоренелость\n",
      "закрепиться\n",
      "замешкаться\n",
      "зампрокурора\n",
      "заправщик\n",
      "заработный\n",
      "засевать\n",
      "застой\n",
      "затруднить\n",
      "затушёвывание\n",
      "затушёвываться\n",
      "зачинщик\n",
      "зачищать\n",
      "заёмный\n",
      "землепользование\n",
      "землеустройство\n",
      "земляк\n",
      "зерно\n",
      "значиться\n",
      "идейность\n",
      "избрание\n",
      "извинение\n",
      "извращённость\n",
      "изготовитель\n",
      "издержать\n",
      "издержка\n",
      "износ\n",
      "израсходование\n",
      "изъян\n",
      "импотентность\n",
      "инициатор\n",
      "инкассатор\n",
      "инфляция\n",
      "истовость\n",
      "исчерпание\n",
      "исчерпанность\n",
      "исчерпывать\n",
      "исчерпываться\n",
      "капитал\n",
      "капиталовложение\n",
      "капитальность\n",
      "капремонт\n",
      "керосин\n",
      "классовость\n",
      "коленопреклонённый\n",
      "комбинат\n",
      "комитет\n",
      "компенсация\n",
      "компенсировать\n",
      "компенсироваться\n",
      "контрреволюционность\n",
      "конфискат\n",
      "коренастый\n",
      "корысть\n",
      "краснознамённый\n",
      "краснолицый\n",
      "краснощёкий\n",
      "кредиторский\n",
      "кривоватый\n",
      "криворукий\n",
      "криминалистический\n",
      "лесоматериал\n",
      "лесопромышленник\n",
      "лжебанкрот\n",
      "ликвидироваться\n",
      "ликвидность\n",
      "лохотрон\n",
      "лысый\n",
      "малограмотность\n",
      "малоценность\n",
      "малоэффективность\n",
      "махинация\n",
      "межпартийный\n",
      "меньшевик\n",
      "металлист\n",
      "металлокерамика\n",
      "металлопластик\n",
      "металлопрокат\n",
      "металлургия\n",
      "механизация\n",
      "миновать\n",
      "миномётчик\n",
      "многопартийность\n",
      "мужеложество\n",
      "мужичище\n",
      "набожный\n",
      "наболевший\n",
      "нажива\n",
      "нажим\n",
      "накопление\n",
      "наличность\n",
      "налётчик\n",
      "напарничек\n",
      "напрягать\n",
      "наркокурьер\n",
      "наркомафиози\n",
      "наркоперевозчик\n",
      "народно-демократический\n",
      "насторожённый\n",
      "национализация\n",
      "нашивка\n",
      "неблагонадёжность\n",
      "неблагородство\n",
      "невостребованность\n",
      "невыгодность\n",
      "негодность\n",
      "недобор\n",
      "недоброкачественность\n",
      "недобросовестность\n",
      "недостаток\n",
      "недостача\n",
      "недостойность\n",
      "незабвенный\n",
      "незавершённый\n",
      "независимый\n",
      "незаинтересованность\n",
      "незаконченность\n",
      "незапятнанность\n",
      "незаслуженность\n",
      "некомплект\n",
      "неконкурентоспособность\n",
      "нелегитимность\n",
      "немаловажность\n",
      "немощный\n",
      "необеспеченность\n",
      "неоплата\n",
      "неопытность\n",
      "неофициальность\n",
      "неплатёж\n",
      "неплатёжеспособность\n",
      "неповинный\n",
      "неподсудность\n",
      "непокладистость\n",
      "неполноценность\n",
      "непопулярность\n",
      "неправедность\n",
      "неправомерность\n",
      "неправый\n",
      "неприглядность\n",
      "неприкрытый\n",
      "неприличие\n",
      "нерентабельность\n",
      "несознательность\n",
      "несоответствие\n",
      "несостоятельность\n",
      "несостыковка\n",
      "неудачность\n",
      "неудовлетворение\n",
      "неудовлетворённость\n",
      "неупотребление\n",
      "неуспех\n",
      "неуспешность\n",
      "неучастие\n",
      "неучтивость\n",
      "неуёмность\n",
      "нефтепродукт\n",
      "нефтепродукты\n",
      "нефтехимия\n",
      "нехватка\n",
      "нецензурность\n",
      "нечистоплотность\n",
      "неэффективность\n",
      "низкопробность\n",
      "низкосортность\n",
      "новоизбранный\n",
      "новоиспечённый\n",
      "обворовывание\n",
      "обеднение\n",
      "обеспеченность\n",
      "облапошивание\n",
      "облигация\n",
      "облсовет\n",
      "обналичивание\n",
      "обнищание\n",
      "обойти\n",
      "оброк\n",
      "обстоять\n",
      "обходить\n",
      "обыскать\n",
      "обыскаться\n",
      "овощеводство\n",
      "огородник\n",
      "огрех\n",
      "оканчиваться\n",
      "олигарх\n",
      "опись\n",
      "оппозиционность\n",
      "оприходование\n",
      "орденоносец\n",
      "осмотреться\n",
      "остаточный\n",
      "оступаться\n",
      "отваливать\n",
      "отверженный\n",
      "отгрузка\n",
      "отживший\n",
      "отжим\n",
      "откат\n",
      "откатывать\n",
      "отмывание\n",
      "отнестись\n",
      "отставка\n",
      "отсталость\n",
      "отступать\n",
      "отступить\n",
      "отступиться\n",
      "отступной\n",
      "отходить\n",
      "ошибочность\n",
      "партбилет\n",
      "партийность\n",
      "паршивость\n",
      "патология\n",
      "пахарь\n",
      "передовик\n",
      "перекос\n",
      "перекрывать\n",
      "перекупка\n",
      "переплавка\n",
      "переплата\n",
      "перепрофилирование\n",
      "перерасход\n",
      "перерасчёт\n",
      "перерегистрация\n",
      "перестройка\n",
      "переступить\n",
      "перечисляться\n",
      "петербуржец\n",
      "платёж\n",
      "платёжка\n",
      "погашение\n",
      "погорелый\n",
      "подобраться\n",
      "подозрение\n",
      "подойти\n",
      "подорожание\n",
      "подоходный\n",
      "подсудность\n",
      "подхалимство\n",
      "политсовет\n",
      "порох\n",
      "порядочный\n",
      "посетовать\n",
      "послужной\n",
      "посодействовать\n",
      "посредственность\n",
      "посторониться\n",
      "постыдность\n",
      "потребление\n",
      "потребовать\n",
      "похабник\n",
      "похабность\n",
      "почтенный\n",
      "предкризисный\n",
      "предпарламент\n",
      "претендовать\n",
      "прибавлять\n",
      "прибегать\n",
      "прибыль\n",
      "прибыток\n",
      "приватизация\n",
      "придраться\n",
      "прилагать\n",
      "приобретательство\n",
      "приписки\n",
      "приступать\n",
      "прихлебательский\n",
      "причастный\n",
      "причитаться\n",
      "пробираться\n",
      "продукция\n",
      "проедать\n",
      "производитель\n",
      "производительность\n",
      "производство\n",
      "пройти\n",
      "прокопаться\n",
      "промотать\n",
      "прорваться\n",
      "просадить\n",
      "просаживать\n",
      "проскочить\n",
      "просовывать\n",
      "противность\n",
      "противоправность\n",
      "протиснуться\n",
      "профессиональность\n",
      "профнепригодность\n",
      "профпригодность\n",
      "проход\n",
      "процентный\n",
      "пулемётчик\n",
      "пятидесятник\n",
      "разбор\n",
      "разборка\n",
      "развал\n",
      "разворовывание\n",
      "разворовывать\n",
      "разгребание\n",
      "разлад\n",
      "разыскание\n",
      "разыскивать\n",
      "райотдел\n",
      "растрата\n",
      "расформирование\n",
      "расхититель\n",
      "расчистить\n",
      "расчёт\n",
      "реакционность\n",
      "ревизия\n",
      "режиссёр\n",
      "ремонт\n",
      "репер\n",
      "рефинансирование\n",
      "реформаторство\n",
      "реформирование\n",
      "решительный\n",
      "розыск\n",
      "самоотчёт\n",
      "сбыт\n",
      "свежевымытый\n",
      "себестоимость\n",
      "седобородый\n",
      "седоватый\n",
      "седовласый\n",
      "седой\n",
      "седоусый\n",
      "середнячок\n",
      "системность\n",
      "сказываться\n",
      "скандальность\n",
      "скомпенсировать\n",
      "скупердяйство\n",
      "скупка\n",
      "сместить\n",
      "сносить\n",
      "соваться\n",
      "современник\n",
      "согласный\n",
      "содействие\n",
      "содействовать\n",
      "созависимость\n",
      "солидарный\n",
      "состоятельность\n",
      "спекуляция\n",
      "списать\n",
      "способствовать\n",
      "срам\n",
      "старик\n",
      "старикан\n",
      "старикашка\n",
      "старожил\n",
      "стихать\n",
      "страждущий\n",
      "стыд\n",
      "сукин\n",
      "сутулый\n",
      "сухощавый\n",
      "счесться\n",
      "счетоводство\n",
      "сырьё\n",
      "товарооборот\n",
      "топливозаправщик\n",
      "тощий\n",
      "транзакция\n",
      "трудящийся\n",
      "тупиковость\n",
      "тушение\n",
      "тщательность\n",
      "убогость\n",
      "убыток\n",
      "уведомить\n",
      "удачливый\n",
      "удачник\n",
      "уклониться\n",
      "уложиться\n",
      "упадок\n",
      "уплата\n",
      "упраздняться\n",
      "усматриваться\n",
      "успешность\n",
      "устарелость\n",
      "устранять\n",
      "уценка\n",
      "учредитель\n",
      "учредительный\n",
      "учёт\n",
      "ущемлённость\n",
      "ущерб\n",
      "ущербность\n",
      "уязвлённость\n",
      "уяснить\n",
      "фальсификация\n",
      "фальшивомонетничество\n",
      "фальшивомонетчик\n",
      "фальшивость\n",
      "ферментация\n",
      "форсировать\n",
      "фронт\n",
      "фронтовик\n",
      "хлебозаготовка\n",
      "хлеборез\n",
      "хлеборезка\n",
      "хлопководство\n",
      "хозрасчёт\n",
      "ценообразование\n",
      "чеканка\n",
      "чернобородый\n",
      "честный\n",
      "чувак\n",
      "чуждость\n",
      "шахтовладелец\n",
      "щуплый\n",
      "щёлочноземельный\n"
     ]
    }
   ],
   "source": [
    "print('\\n'.join(df_mhme['term'].to_list()))"
   ],
   "metadata": {
    "collapsed": false,
    "pycharm": {
     "name": "#%%\n"
    }
   }
  },
  {
   "cell_type": "markdown",
   "source": [
    "Список из mhfe с модельной яркой \"женской\" выразительностью"
   ],
   "metadata": {
    "collapsed": false
   }
  },
  {
   "cell_type": "code",
   "execution_count": 249,
   "outputs": [
    {
     "name": "stdout",
     "output_type": "stream",
     "text": [
      "абажур\n",
      "аббатство\n",
      "абрикосовый\n",
      "авантюристка\n",
      "авиаперелёт\n",
      "авиарейс\n",
      "ажурный\n",
      "ай-кью\n",
      "айсберг\n",
      "аквариум\n",
      "акушерка\n",
      "альпинистка\n",
      "ананасовый\n",
      "антибиотик\n",
      "аптекарша\n",
      "архипелаг\n",
      "астролог\n",
      "астрологический\n",
      "астрология\n",
      "атеистка\n",
      "аттракцион\n",
      "байдарка\n",
      "бал-маскарад\n",
      "балкончик\n",
      "бамбук\n",
      "бамбуковый\n",
      "банан\n",
      "банник\n",
      "бантик\n",
      "барабанщица\n",
      "барашек\n",
      "барбекю\n",
      "барометр\n",
      "бархатный\n",
      "батискаф\n",
      "батут\n",
      "баюкать\n",
      "бегунья\n",
      "безветрие\n",
      "безвредный\n",
      "бездождье\n",
      "безмятежность\n",
      "безоблачность\n",
      "безоблачный\n",
      "белочка\n",
      "бельишко\n",
      "бельчонок\n",
      "беседка\n",
      "бессонница\n",
      "бибикать\n",
      "библиотекарша\n",
      "бикини\n",
      "билетёрша\n",
      "биологичка\n",
      "бисеринка\n",
      "бисквит\n",
      "бифштекс\n",
      "бледно-голубой\n",
      "блеск\n",
      "близняшки\n",
      "блуждать\n",
      "блюдце\n",
      "блюстительница\n",
      "боб\n",
      "богородица\n",
      "бодрствовать\n",
      "бокал\n",
      "больная\n",
      "бочонок\n",
      "бочоночек\n",
      "боярышник\n",
      "брелочек\n",
      "бродить\n",
      "брошечка\n",
      "брошка\n",
      "брёвнышко\n",
      "буддистка\n",
      "букет\n",
      "букетик\n",
      "бумажонка\n",
      "буррито\n",
      "бурчание\n",
      "бурёнка\n",
      "бусы\n",
      "бутон\n",
      "бюстгальтер\n",
      "вагончик\n",
      "вазочка\n",
      "валенок\n",
      "вальс\n",
      "вальсировать\n",
      "валяться\n",
      "вампиресса\n",
      "вампирша\n",
      "вволю\n",
      "вдохнуть\n",
      "вдыхать\n",
      "вегетарианка\n",
      "веер\n",
      "велосипедистка\n",
      "веник\n",
      "веничек\n",
      "верблюдица\n",
      "вероотступница\n",
      "веселиться\n",
      "весна\n",
      "ветчинка\n",
      "вечереть\n",
      "взбодриться\n",
      "вздремнуть\n",
      "взмокнуть\n",
      "взъерошивать\n",
      "взъерошиться\n",
      "вибрировать\n",
      "вигвам\n",
      "видимо-невидимо\n",
      "визажистка\n",
      "висюлька\n",
      "вколоть\n",
      "вкусить\n",
      "владычица\n",
      "властительница\n",
      "влюбиться\n",
      "влюблять\n",
      "влюбляться\n",
      "внутримышечно\n",
      "внученька\n",
      "водопад\n",
      "вожатая\n",
      "возвеселиться\n",
      "воздушность\n",
      "волчица\n",
      "волчок\n",
      "волчонок\n",
      "вольная\n",
      "вольтметр\n",
      "воркованье\n",
      "воробушек\n",
      "воробышек\n",
      "восемнадцатилетие\n",
      "воскреснуть\n",
      "воссоединение\n",
      "восхититься\n",
      "восхождение\n",
      "восьмиклассница\n",
      "впрыснуть\n",
      "впятеро\n",
      "врачевательница\n",
      "времяпровождение\n",
      "вскармливание\n",
      "вскармливать\n",
      "вспорхнуть\n",
      "вспыхнуть\n",
      "всхлип\n",
      "всхрапнуть\n",
      "втюриться\n",
      "вчувствоваться\n",
      "выгладить\n",
      "выгул\n",
      "выгуливать\n",
      "выгулять\n",
      "выдумщица\n",
      "выкупаться\n",
      "вылупиться\n",
      "вынашивать\n",
      "вынашиваться\n",
      "выпорхнуть\n",
      "вырастить\n",
      "высморкаться\n",
      "выспаться\n",
      "высыпаться\n",
      "выхаживать\n",
      "вышивальщица\n",
      "вышивать\n",
      "вышить\n",
      "вязальщица\n",
      "вязать\n",
      "гавкать\n",
      "гадалка\n",
      "газель\n",
      "гала-концерт\n",
      "гамак\n",
      "гастролировать\n",
      "герметический\n",
      "гимнастка\n",
      "гипнотизирование\n",
      "гипнотизировать\n",
      "гипнотизирующе\n",
      "гипнотизм\n",
      "гипнотический\n",
      "гирлянда\n",
      "гладильная\n",
      "гладить\n",
      "гнездо\n",
      "гнездовье\n",
      "гнёздышко\n",
      "годовалый\n",
      "голубенький\n",
      "голубец\n",
      "голубизна\n",
      "голубика\n",
      "голубушка\n",
      "голубятня\n",
      "гонщица\n",
      "горбик\n",
      "горсточка\n",
      "горшок\n",
      "горшочек\n",
      "госпожа\n",
      "гостиная\n",
      "градусник\n",
      "грезить\n",
      "грезиться\n",
      "грелка\n",
      "греть\n",
      "греться\n",
      "гробик\n",
      "грудка\n",
      "грустить\n",
      "гуляние\n",
      "гулянье\n",
      "гулять\n",
      "дарительница\n",
      "дарить\n",
      "дарохранительница\n",
      "дворец\n",
      "двухлеток\n",
      "девичник\n",
      "девятиклассница\n",
      "дельфинчик\n",
      "дельфинёнок\n",
      "деревцо\n",
      "детишки\n",
      "деточка\n",
      "детская\n",
      "детёныш\n",
      "джакузи\n",
      "джем\n",
      "джемпер\n",
      "джемперок\n",
      "диван\n",
      "диван-кровать\n",
      "диванчик\n",
      "дикарка\n",
      "догрызать\n",
      "догрызть\n",
      "дождик\n",
      "дождичек\n",
      "докрасна\n",
      "дом\n",
      "домик\n",
      "домишко\n",
      "домовладелица\n",
      "домоправительница\n",
      "домоседка\n",
      "доярка\n",
      "дракончик\n",
      "дремать\n",
      "дремота\n",
      "дрессировать\n",
      "дрессировочный\n",
      "дрессировщица\n",
      "дудочка\n",
      "дума\n",
      "дурман\n",
      "египтянка\n",
      "единорог\n",
      "ель\n",
      "жаворонок\n",
      "жакет\n",
      "жакетик\n",
      "жар-птица\n",
      "жара\n",
      "жасмин\n",
      "желеобразный\n",
      "жеребёнок\n",
      "живописать\n",
      "журчание\n",
      "жюльен\n",
      "забываться\n",
      "завестись\n",
      "завораживающе\n",
      "завтракать\n",
      "загарпунить\n",
      "загипнотизировать\n",
      "загончик\n",
      "загорать\n",
      "загореть\n",
      "загореться\n",
      "задремать\n",
      "задрыхнуть\n",
      "задуть\n",
      "задышать\n",
      "зажечь\n",
      "зажигать\n",
      "зажмуривать\n",
      "зажмуриваться\n",
      "зажмуриться\n",
      "заискриться\n",
      "зайка\n",
      "зайчик\n",
      "зайчиха\n",
      "зайчонок\n",
      "закаменеть\n",
      "заклинательница\n",
      "заклятие\n",
      "заколыхаться\n",
      "закружиться\n",
      "замерзание\n",
      "замерзать\n",
      "замёрзнуть\n",
      "заночевать\n",
      "запахнуть\n",
      "запеть\n",
      "заплетать\n",
      "заплясать\n",
      "запрокидываться\n",
      "запыхтеть\n",
      "запьянеть\n",
      "заря\n",
      "зарядиться\n",
      "засветлеть\n",
      "засвистеть\n",
      "засиять\n",
      "заскучать\n",
      "заснуть\n",
      "засыпать\n",
      "затанцевать\n",
      "затворница\n",
      "затейница\n",
      "заурчать\n",
      "захмелеть\n",
      "захолодеть\n",
      "захрустеть\n",
      "зачмокать\n",
      "защемлять\n",
      "звезда\n",
      "звездолёт\n",
      "звездопад\n",
      "звездчатый\n",
      "звенеть\n",
      "звероферма\n",
      "звёздный\n",
      "звёздочка\n",
      "зданьице\n",
      "зебра\n",
      "зевать\n",
      "зелье\n",
      "зелёненький\n",
      "зефир\n",
      "знахарка\n",
      "знойное\n",
      "зонтик\n",
      "зоосад\n",
      "зёрнышко\n",
      "ива\n",
      "иван-чай\n",
      "игрушечка\n",
      "игрушечный\n",
      "идиллия\n",
      "избушка\n",
      "изжевать\n",
      "излучать\n",
      "изнуряюще\n",
      "изобретательница\n",
      "изолятор\n",
      "изучающе\n",
      "иллюзионистка\n",
      "именинница\n",
      "именины\n",
      "ингаляционный\n",
      "инопланетянка\n",
      "иноходец\n",
      "интригующе\n",
      "инъекционный\n",
      "ирис\n",
      "ириска\n",
      "искательница\n",
      "искупаться\n",
      "испечься\n",
      "испускать\n",
      "исследовательница\n",
      "йети\n",
      "кабриолет\n",
      "какаду\n",
      "калейдоскоп\n",
      "кальсоны\n",
      "кальян\n",
      "камин\n",
      "каминный\n",
      "камушек\n",
      "канарейка\n",
      "каникулы\n",
      "капелька\n",
      "капучино\n",
      "капуччино\n",
      "капуша\n",
      "каракуль\n",
      "карантинный\n",
      "кардиган\n",
      "карнавал\n",
      "касание\n",
      "катамаран\n",
      "катание\n",
      "кататься\n",
      "катышек\n",
      "кафе-мороженое\n",
      "кашка\n",
      "каёмочка\n",
      "квадратик\n",
      "квакать\n",
      "кебаб\n",
      "кекс\n",
      "кемпинг\n",
      "кешью\n",
      "киви\n",
      "киса\n",
      "киска\n",
      "кисленький\n",
      "кислинка\n",
      "кислица\n",
      "кислятина\n",
      "кисонька\n",
      "китёнок\n",
      "кишмя\n",
      "клетка\n",
      "клеёнка\n",
      "климат\n",
      "клубок\n",
      "клубочек\n",
      "ключик\n",
      "ключница\n",
      "коала\n",
      "кобылка\n",
      "ковчег\n",
      "кое-куда\n",
      "козочка\n",
      "кой-куда\n",
      "кокер-спаниель\n",
      "кокон\n",
      "кокос\n",
      "кокосовый\n",
      "колесить\n",
      "колечко\n",
      "колли\n",
      "колыбель\n",
      "колыбелька\n",
      "колыхание\n",
      "колыхнуться\n",
      "кольцо\n",
      "коляска\n",
      "колясочка\n",
      "командировать\n",
      "комариный\n",
      "комнатёнка\n",
      "комодик\n",
      "комочек\n",
      "компаньонка\n",
      "компресс\n",
      "конура\n",
      "конфета\n",
      "конфетка\n",
      "конфетти\n",
      "копытце\n",
      "кораблик\n",
      "корабль\n",
      "корж\n",
      "коржик\n",
      "корзинка\n",
      "корзиночка\n",
      "кормилица\n",
      "кормление\n",
      "коробочка\n",
      "коровка\n",
      "космолёт\n",
      "коттедж\n",
      "котёнок\n",
      "котёночек\n",
      "кофеин\n",
      "кочка\n",
      "кошатница\n",
      "кошечка\n",
      "кошёлка\n",
      "красавица\n",
      "крем-брюле\n",
      "крепко-накрепко\n",
      "крестины\n",
      "кроватка\n",
      "кровать\n",
      "крольчатина\n",
      "крольчатник\n",
      "крольчиха\n",
      "крольчонок\n",
      "крошечный\n",
      "кругляш\n",
      "кругляшок\n",
      "кругосветка\n",
      "кружево\n",
      "кружиться\n",
      "кружочек\n",
      "круиз\n",
      "крылышко\n",
      "крыска\n",
      "крякать\n",
      "кувшин\n",
      "кувшинка\n",
      "кувшинчик\n",
      "куда-либо\n",
      "куда-нибудь\n",
      "кудахтанье\n",
      "кудесница\n",
      "куколка\n",
      "купальник\n",
      "купальничек\n",
      "купальня\n",
      "купанье\n",
      "купаться\n",
      "курильщица\n",
      "курлыкать\n",
      "курорт\n",
      "кусочек\n",
      "куча\n",
      "лагерь\n",
      "ладошка\n",
      "лазанье\n",
      "лайнер\n",
      "лакмус\n",
      "лакомка\n",
      "лапка\n",
      "лапочка\n",
      "ласковость\n",
      "ласточка\n",
      "леденец\n",
      "ледок\n",
      "ледопад\n",
      "ледянка\n",
      "лежанка\n",
      "лежать\n",
      "лежбище\n",
      "леопардовый\n",
      "лепесток\n",
      "лепет\n",
      "лепёшечка\n",
      "лето\n",
      "летучий\n",
      "лечебница\n",
      "лечь\n",
      "лизание\n",
      "лизнуть\n",
      "лилипут\n",
      "лилипутка\n",
      "лилия\n",
      "лисичка\n",
      "листик\n",
      "листочек\n",
      "лисёнок\n",
      "лифтёрша\n",
      "лихорадка\n",
      "лобзик\n",
      "лобик\n",
      "лобызание\n",
      "ломтик\n",
      "лондонцы\n",
      "лоскутик\n",
      "лоскуток\n",
      "лосёнок\n",
      "лоток\n",
      "лоточек\n",
      "лошадёнка\n",
      "лужайка\n",
      "луна\n",
      "луна-парк\n",
      "лунатизм\n",
      "лунатик\n",
      "лунный\n",
      "лучик\n",
      "лучинка\n",
      "лыжница\n",
      "львица\n",
      "львёнок\n",
      "льдинка\n",
      "любимица\n",
      "любительница\n",
      "любоваться\n",
      "люля-кебаб\n",
      "лён\n",
      "мадам\n",
      "маленькие\n",
      "малиновка\n",
      "малышня\n",
      "мальчишник\n",
      "малюсенький\n",
      "манго\n",
      "мандаринский\n",
      "маникюрша\n",
      "мармелад\n",
      "марципан\n",
      "масленица\n",
      "масленичный\n",
      "массажистка\n",
      "матрас\n",
      "матрасик\n",
      "матрац\n",
      "маятник\n",
      "маятниковый\n",
      "медвежонок\n",
      "медовуха\n",
      "медовый\n",
      "медсестричка\n",
      "мельтешение\n",
      "мерещиться\n",
      "мерцать\n",
      "метропоезд\n",
      "мечтание\n",
      "мечтательница\n",
      "мечтать\n",
      "мизантропка\n",
      "микроклимат\n",
      "микромир\n",
      "миледи\n",
      "миллиардерша\n",
      "миллионерша\n",
      "миндаль\n",
      "мини-платье\n",
      "мини-юбка\n",
      "мишка\n",
      "младенец\n",
      "младенчик\n",
      "многолетие\n",
      "многолюдье\n",
      "многоножка\n",
      "модельерша\n",
      "молочница\n",
      "моль\n",
      "мороженщица\n",
      "мороз\n",
      "морозец\n",
      "морозный\n",
      "москитный\n",
      "москиты\n",
      "мулине\n",
      "мурашки\n",
      "мурлыкание\n",
      "мурлыканье\n",
      "мурлыкать\n",
      "мышка\n",
      "мышонок\n",
      "мэм\n",
      "мяуканье\n",
      "мяукать\n",
      "мяукнуть\n",
      "мячик\n",
      "мёрзнуть\n",
      "набегаться\n",
      "набухание\n",
      "набухнуть\n",
      "нагреться\n",
      "нагуляться\n",
      "надавливание\n",
      "надзирательница\n",
      "надсмотрщица\n",
      "надышаться\n",
      "наложница\n",
      "напевать\n",
      "наперебой\n",
      "наплодить\n",
      "наркоманка\n",
      "насвистывание\n",
      "насвистывать\n",
      "натурщица\n",
      "наэлектризоваться\n",
      "небо\n",
      "небожительница\n",
      "небосвод\n",
      "небосклон\n",
      "невольница\n",
      "недоспать\n",
      "неженка\n",
      "непогода\n",
      "непогодь\n",
      "несушка\n",
      "новолуние\n",
      "новорождённая\n",
      "новоселье\n",
      "норд-вест\n",
      "норка\n",
      "носительница\n",
      "носить\n",
      "носочек\n",
      "ночка\n",
      "ночник\n",
      "ночничок\n",
      "ночнушка\n",
      "ночёвка\n",
      "нравиться\n",
      "ныряльщица\n",
      "нюхать\n",
      "нюхнуть\n",
      "нянчить\n",
      "нянчиться\n",
      "оазис\n",
      "обволакивать\n",
      "обволакиваться\n",
      "обгладывать\n",
      "обдувать\n",
      "обиталище\n",
      "обитательница\n",
      "облако\n",
      "облачко\n",
      "облачность\n",
      "облететь\n",
      "облизывать\n",
      "обморозиться\n",
      "обнимание\n",
      "обнимать\n",
      "обниматься\n",
      "обогревание\n",
      "обогреватель\n",
      "обогревать\n",
      "обогреваться\n",
      "обогреть\n",
      "обогреться\n",
      "обручить\n",
      "обсохнуть\n",
      "обсушиться\n",
      "обсыхать\n",
      "овечка\n",
      "овчинка\n",
      "оглушающе\n",
      "одеялко\n",
      "одеяло\n",
      "одеяльце\n",
      "одурманивать\n",
      "ожерелье\n",
      "озарять\n",
      "озерцо\n",
      "озорница\n",
      "океанариум\n",
      "окоченеть\n",
      "октябрёнок\n",
      "окукливаться\n",
      "оленёнок\n",
      "омар\n",
      "опекать\n",
      "опьянеть\n",
      "опьяняюще\n",
      "опёнок\n",
      "оранжерея\n",
      "освежаться\n",
      "освежающе\n",
      "освежевать\n",
      "освежиться\n",
      "ослепнуть\n",
      "ослица\n",
      "отапливать\n",
      "отгулять\n",
      "отгуляться\n",
      "отдохнуть\n",
      "отдыхать\n",
      "отжевать\n",
      "открытие\n",
      "отлить\n",
      "отогревать\n",
      "отогреваться\n",
      "отогреть\n",
      "отогреться\n",
      "отоспаться\n",
      "отпраздновать\n",
      "отрезвляюще\n",
      "отсыпаться\n",
      "отхаркивающее\n",
      "отшельница\n",
      "охотница\n",
      "охранительница\n",
      "очароваться\n",
      "ошейник\n",
      "ошпариться\n",
      "пакетик\n",
      "палатка\n",
      "палаточка\n",
      "пальма\n",
      "пансионат\n",
      "парашютистка\n",
      "парижанка\n",
      "парить\n",
      "парк\n",
      "пароходишко\n",
      "парусник\n",
      "паучиха\n",
      "паучок\n",
      "пациентка\n",
      "пеленать\n",
      "пеликан\n",
      "пелёнка\n",
      "первокурсница\n",
      "передничек\n",
      "переливание\n",
      "переливаться\n",
      "перелиться\n",
      "перелёт\n",
      "перенос\n",
      "переносчик\n",
      "переночевать\n",
      "пересвистываться\n",
      "перина\n",
      "персик\n",
      "песочек\n",
      "пессимистка\n",
      "песчинка\n",
      "печенье\n",
      "пешочком\n",
      "пианистка\n",
      "пижама\n",
      "пижамный\n",
      "пикник\n",
      "пила\n",
      "пинг-понг\n",
      "пингвин\n",
      "пингвины\n",
      "пион\n",
      "пипетка\n",
      "пирс\n",
      "пирушка\n",
      "пиршество\n",
      "пися\n",
      "питбуль\n",
      "питомец\n",
      "питомица\n",
      "питомник\n",
      "питон\n",
      "питьё\n",
      "пишмашинка\n",
      "плакса\n",
      "пламенеть\n",
      "платье\n",
      "платьице\n",
      "платьишко\n",
      "плед\n",
      "пленница\n",
      "плюшевый\n",
      "пляж\n",
      "по-венгерски\n",
      "по-голландски\n",
      "по-китайски\n",
      "по-персидски\n",
      "по-польски\n",
      "побаловать\n",
      "побаловаться\n",
      "побродить\n",
      "побрызгать\n",
      "побулькивать\n",
      "повелительница\n",
      "повеселиться\n",
      "повизгивать\n",
      "поводок\n",
      "повылезать\n",
      "погадать\n",
      "погладить\n",
      "поглаживание\n",
      "поглаживать\n",
      "погреть\n",
      "погреться\n",
      "подарить\n",
      "подарок\n",
      "подарочек\n",
      "подвыпить\n",
      "подгузник\n",
      "подгулять\n",
      "подержать\n",
      "подержаться\n",
      "поджариться\n",
      "подкармливать\n",
      "подкормить\n",
      "поднебесье\n",
      "подпевала\n",
      "подремать\n",
      "подсвечивать\n",
      "подсыхать\n",
      "подсюсюкивать\n",
      "подушечка\n",
      "подушка\n",
      "подышать\n",
      "поезд\n",
      "поездить\n",
      "поездка\n",
      "поездочка\n",
      "поехать\n",
      "пожевать\n",
      "пожирательница\n",
      "позавтракать\n",
      "позагорать\n",
      "позаниматься\n",
      "позариться\n",
      "поздравить\n",
      "поздравлять\n",
      "позировать\n",
      "поиграть\n",
      "поилка\n",
      "поить\n",
      "покалывание\n",
      "покалывать\n",
      "покататься\n",
      "покатиться\n",
      "покачивание\n",
      "покачивать\n",
      "поклевать\n",
      "покой\n",
      "поколдовать\n",
      "поколесить\n",
      "покорительница\n",
      "покрывало\n",
      "покряхтеть\n",
      "покувыркаться\n",
      "покусать\n",
      "покуситься\n",
      "покусывание\n",
      "покусывать\n",
      "полакомить\n",
      "полежать\n",
      "полетать\n",
      "полететь\n",
      "ползунок\n",
      "полнолуние\n",
      "полулежать\n",
      "полуночница\n",
      "полюбиться\n",
      "померкнуть\n",
      "поместье\n",
      "помечтать\n",
      "помешкать\n",
      "помногу\n",
      "помпон\n",
      "помпончик\n",
      "помёрзнуть\n",
      "понежиться\n",
      "понемножечку\n",
      "понемножку\n",
      "пони\n",
      "поносить\n",
      "пончик\n",
      "понюхать\n",
      "поодиночке\n",
      "поохотиться\n",
      "попариться\n",
      "поперхнуться\n",
      "попеть\n",
      "попечительница\n",
      "поплавать\n",
      "поплакать\n",
      "поплотнеть\n",
      "поплясывать\n",
      "попоить\n",
      "попраздновать\n",
      "попугайчик\n",
      "попыхтеть\n",
      "поразвлечься\n",
      "порезвиться\n",
      "порисовать\n",
      "порисоваться\n",
      "поросёнок\n",
      "посапывание\n",
      "посасывать\n",
      "посветлеть\n",
      "посвистеть\n",
      "посвистывание\n",
      "посвистывать\n",
      "поселить\n",
      "посетительница\n",
      "поскальзываться\n",
      "посланница\n",
      "послушный\n",
      "посмаковать\n",
      "пососать\n",
      "поспать\n",
      "постанывание\n",
      "постелить\n",
      "постель\n",
      "постелька\n",
      "постоялица\n",
      "потанцевать\n",
      "потеплеть\n",
      "потрогать\n",
      "потягивание\n",
      "потягивать\n",
      "поугорать\n",
      "поужинать\n",
      "поухаживать\n",
      "похитительница\n",
      "похолодать\n",
      "похолодеть\n",
      "почмокать\n",
      "почувствоваться\n",
      "поэтически\n",
      "поёрзать\n",
      "празднество\n",
      "праздничек\n",
      "праздновать\n",
      "предсказательница\n",
      "презент\n",
      "презентовать\n",
      "прехладнокровно\n",
      "прибавление\n",
      "прививочный\n",
      "привязаться\n",
      "привязывать\n",
      "пригласительный\n",
      "пригревать\n",
      "пригреть\n",
      "пригубить\n",
      "приезд\n",
      "прикармливать\n",
      "прикасание\n",
      "приключение\n",
      "прикорм\n",
      "прикорнуть\n",
      "прикосновение\n",
      "примёрзнуть\n",
      "приплясывать\n",
      "приподнятость\n",
      "приручать\n",
      "приручаться\n",
      "приручить\n",
      "прислужница\n",
      "пристанище\n",
      "притянуться\n",
      "причёсывать\n",
      "приютить\n",
      "приютиться\n",
      "проветриться\n",
      "провидица\n",
      "прогреться\n",
      "прогуливать\n",
      "прогуливаться\n",
      "прогулка\n",
      "прогульщица\n",
      "продефилировать\n",
      "продлёнка\n",
      "продрогнуть\n",
      "продрыхнуть\n",
      "проехаться\n",
      "прокатиться\n",
      "прокатывать\n",
      "прокатываться\n",
      "промелькнуть\n",
      "промозглость\n",
      "промокать\n",
      "промокнуть\n",
      "прописать\n",
      "прописывать\n",
      "пропотеть\n",
      "прорицательница\n",
      "пророчица\n",
      "просительница\n",
      "простынка\n",
      "просыхать\n",
      "прохлада\n",
      "прудик\n",
      "прятки\n",
      "пташечка\n",
      "пташка\n",
      "птицеферма\n",
      "птичка\n",
      "пудель\n",
      "пудинг\n",
      "пудра\n",
      "пудреница\n",
      "пудрить\n",
      "пудриться\n",
      "пузико\n",
      "пузырёчек\n",
      "пукан\n",
      "пульсировать\n",
      "пунш\n",
      "пуп\n",
      "пупс\n",
      "пупсик\n",
      "пупырышек\n",
      "путеводитель\n",
      "путешественница\n",
      "путешествие\n",
      "путешествовать\n",
      "путёвка\n",
      "пуфик\n",
      "пуховик\n",
      "пуховичок\n",
      "пучочек\n",
      "пушинка\n",
      "пушистик\n",
      "пушистость\n",
      "пушиться\n",
      "пушок\n",
      "пчела\n",
      "пчёлка\n",
      "пёрышко\n",
      "рабыня\n",
      "радужность\n",
      "разбрасывать\n",
      "разбрасываться\n",
      "разбросать\n",
      "разбросаться\n",
      "развеивать\n",
      "развесить\n",
      "развешать\n",
      "развешивание\n",
      "развешивать\n",
      "развешиваться\n",
      "развеять\n",
      "развеяться\n",
      "разгорячиться\n",
      "разгуливать\n",
      "раздавать\n",
      "раздать\n",
      "разделить\n",
      "раздолье\n",
      "раздражающе\n",
      "разлезться\n",
      "разлетаться\n",
      "разлететься\n",
      "разлучать\n",
      "разлучаться\n",
      "разлучиться\n",
      "размечтаться\n",
      "размножать\n",
      "разноцветный\n",
      "разноцветье\n",
      "разоспаться\n",
      "разреветься\n",
      "разрисовать\n",
      "разрушительница\n",
      "разумница\n",
      "разъезжать\n",
      "рай\n",
      "ракетоносец\n",
      "раскраивать\n",
      "раскрасавица\n",
      "раскрасить\n",
      "раскрашивать\n",
      "распорядительница\n",
      "распускание\n",
      "рассекаться\n",
      "рассесться\n",
      "расслабляться\n",
      "расслабляюще\n",
      "растаять\n",
      "растеньице\n",
      "растерзание\n",
      "растить\n",
      "расхохотаться\n",
      "расцарапать\n",
      "расцарапаться\n",
      "расцарапывать\n",
      "расцвести\n",
      "расцеловать\n",
      "расцеловаться\n",
      "расцеплять\n",
      "регулировщица\n",
      "резвиться\n",
      "рисоваться\n",
      "рисуночек\n",
      "родничок\n",
      "рождественский\n",
      "рождество\n",
      "роза\n",
      "рой\n",
      "рок-фестиваль\n",
      "романс\n",
      "роса\n",
      "рукодельница\n",
      "русалка\n",
      "русалочка\n",
      "рюкзачок\n",
      "сад\n",
      "садовница\n",
      "садок\n",
      "садомазохистка\n",
      "самовар\n",
      "самоварчик\n",
      "сандвич\n",
      "сани\n",
      "сарафан\n",
      "сарафанчик\n",
      "светильничек\n",
      "светить\n",
      "светиться\n",
      "светлеть\n",
      "светопреставление\n",
      "свечечка\n",
      "свечка\n",
      "свидание\n",
      "свиданка\n",
      "свиданье\n",
      "свинка\n",
      "свитер\n",
      "свихнуться\n",
      "святки\n",
      "селезёнка\n",
      "семилетие\n",
      "сеновал\n",
      "сердечко\n",
      "сердцеедка\n",
      "сеточка\n",
      "сжевать\n",
      "сиделка\n",
      "синица\n",
      "синичка\n",
      "синус\n",
      "сирень\n",
      "сияние\n",
      "сказка\n",
      "сказочница\n",
      "сказочность\n",
      "скармливание\n",
      "скармливать\n",
      "скворечня\n",
      "скорлупка\n",
      "скулила\n",
      "скучашка\n",
      "сладкоежка\n",
      "слетать\n",
      "слоник\n",
      "слониха\n",
      "слонопотам\n",
      "слонёнок\n",
      "служанка\n",
      "служительница\n",
      "слюни\n",
      "слюнтяйка\n",
      "слякоть\n",
      "смеркаться\n",
      "смотрительница\n",
      "снадобье\n",
      "снег\n",
      "снеговик\n",
      "снегокат\n",
      "снегопад\n",
      "снегурочка\n",
      "снежинка\n",
      "снежок\n",
      "сновидение\n",
      "сновиденье\n",
      "снотворный\n",
      "собачница\n",
      "собачонок\n",
      "собирательница\n",
      "сова\n",
      "совушка\n",
      "совёнок\n",
      "согревание\n",
      "согревать\n",
      "согреваться\n",
      "согреть\n",
      "согреться\n",
      "сокровище\n",
      "солнечность\n",
      "солнце\n",
      "солнцепёк\n",
      "солнцестояние\n",
      "солнышко\n",
      "сон\n",
      "сон-трава\n",
      "сонность\n",
      "соприкоснуться\n",
      "сороконожка\n",
      "соскучиться\n",
      "сосуд\n",
      "сосулька\n",
      "софа\n",
      "спа\n",
      "спазм\n",
      "спаленка\n",
      "спальная\n",
      "спальня\n",
      "спаниель\n",
      "спаривание\n",
      "спариваться\n",
      "спариться\n",
      "спасительница\n",
      "спать\n",
      "спелый\n",
      "спиритический\n",
      "спич\n",
      "спичечница\n",
      "сплющивать\n",
      "сплясать\n",
      "стайка\n",
      "стакан\n",
      "станцевать\n",
      "стафилококк\n",
      "стая\n",
      "стебель\n",
      "стебельковый\n",
      "стебельчатый\n",
      "стемнеть\n",
      "стимулятор\n",
      "стойбище\n",
      "стоп-кран\n",
      "сторожить\n",
      "сторожиха\n",
      "странствие\n",
      "странствовать\n",
      "стрекотание\n",
      "стрекотать\n",
      "стриптизёрша\n",
      "стужа\n",
      "стульчак\n",
      "стульчик\n",
      "султанша\n",
      "сумасбродничать\n",
      "сумерки\n",
      "сумрак\n",
      "сундучок\n",
      "сурок\n",
      "суфле\n",
      "счастливица\n",
      "сыграть\n",
      "сыр-бор\n",
      "табун\n",
      "таверна\n",
      "тазик\n",
      "таитянка\n",
      "танец\n",
      "танцевать\n",
      "танцорка\n",
      "танцплощадка\n",
      "тарелочка\n",
      "тахикардия\n",
      "телёнок\n",
      "телёночек\n",
      "теплеть\n",
      "теплота\n",
      "теплотворный\n",
      "теплынь\n",
      "терем\n",
      "теремок\n",
      "термос\n",
      "террариум\n",
      "терраса\n",
      "тигрёнок\n",
      "тисканье\n",
      "тискать\n",
      "толковательница\n",
      "торт\n",
      "тортик\n",
      "торшер\n",
      "тосковать\n",
      "тоскующе\n",
      "точь-в-точь\n",
      "травяной\n",
      "трамплин\n",
      "транквилизатор\n",
      "треньканье\n",
      "тростинка\n",
      "тростиночка\n",
      "тулуп\n",
      "тулупчик\n",
      "туманность\n",
      "турбаза\n",
      "туристка\n",
      "турне\n",
      "турпоездка\n",
      "турпоход\n",
      "турчанка\n",
      "туча\n",
      "тучка\n",
      "тычинка\n",
      "тьма-тьмущая\n",
      "тюбик\n",
      "тюремщица\n",
      "тявкать\n",
      "тёпленький\n",
      "убаюкать\n",
      "убаюкивание\n",
      "убаюкивать\n",
      "убаюкивающе\n",
      "увеселительный\n",
      "увлечься\n",
      "увлечённо\n",
      "угнетающе\n",
      "удушающе\n",
      "уединение\n",
      "ужинать\n",
      "уик-энд\n",
      "укачать\n",
      "укачивать\n",
      "укладывание\n",
      "укол\n",
      "укротительница\n",
      "укутаться\n",
      "укутывать\n",
      "улей\n",
      "улечься\n",
      "умиротворяюще\n",
      "умиротворённость\n",
      "унюхать\n",
      "уплетать\n",
      "уснуть\n",
      "усыновление\n",
      "усыновлять\n",
      "усыпляюще\n",
      "утренник\n",
      "утёнок\n",
      "ухаживание\n",
      "ухаживать\n",
      "уютность\n",
      "фантазирование\n",
      "фантазировать\n",
      "фантастически\n",
      "фартучек\n",
      "феникс\n",
      "фея\n",
      "фикус\n",
      "финтифлюшка\n",
      "фисташка\n",
      "фитотерапия\n",
      "флакон\n",
      "флакончик\n",
      "фламинго\n",
      "флейтистка\n",
      "фонтанчик\n",
      "фотографироваться\n",
      "фотон\n",
      "фреш\n",
      "фундук\n",
      "фуникулёр\n",
      "фурия\n",
      "халат\n",
      "халатик\n",
      "хаммам\n",
      "хвойный\n",
      "хижина\n",
      "хижинка\n",
      "хищница\n",
      "хозяюшка\n",
      "хоровод\n",
      "хороводить\n",
      "хотение\n",
      "хранительница\n",
      "хранить\n",
      "храп\n",
      "храпенье\n",
      "храпеть\n",
      "хризантема\n",
      "хронометр\n",
      "хрусталик\n",
      "царёк\n",
      "цветик\n",
      "цветник\n",
      "цветоощущение\n",
      "цветочек\n",
      "цветочница\n",
      "целебный\n",
      "целительница\n",
      "целование\n",
      "циркулировать\n",
      "цыплёночек\n",
      "чаепитие\n",
      "чай\n",
      "чайник\n",
      "чайничек\n",
      "часовенка\n",
      "чашка\n",
      "четырёхмесячный\n",
      "чизкейк\n",
      "чириканье\n",
      "чирикать\n",
      "чихуахуа\n",
      "чмоканье\n",
      "чмокать\n",
      "чмокнуть\n",
      "чхать\n",
      "шалаш\n",
      "шалфей\n",
      "шаль\n",
      "шапито\n",
      "шар\n",
      "шарик\n",
      "шаркать\n",
      "шарлотка\n",
      "шаровидный\n",
      "шарф\n",
      "шарфик\n",
      "шезлонг\n",
      "шептала\n",
      "шербет\n",
      "шерстинка\n",
      "шествие\n",
      "шестнадцатилетие\n",
      "шлёпнуться\n",
      "шмыганье\n",
      "шпингалет\n",
      "штиль\n",
      "щебетание\n",
      "щебетать\n",
      "щекотать\n",
      "щенка\n",
      "щеночек\n",
      "щипать\n",
      "экскурсионный\n",
      "экскурсия\n",
      "эксперимент\n",
      "эластичный\n",
      "электростимуляция\n",
      "эльдорадо\n",
      "эскимо\n",
      "эспрессо\n",
      "ягнятина\n",
      "ягнёнок\n",
      "ягнёночек\n",
      "язычница\n",
      "яичко\n",
      "яичник\n",
      "ясновидица\n",
      "ящичек\n",
      "ёжик\n",
      "ёкать\n",
      "ёлка\n",
      "ёлочка\n"
     ]
    }
   ],
   "source": [
    "print('\\n'.join(df_mhfe['term'].to_list()))"
   ],
   "metadata": {
    "collapsed": false,
    "pycharm": {
     "name": "#%%\n"
    }
   }
  },
  {
   "cell_type": "markdown",
   "source": [
    "P.S. Из замеченных неожиданностей: \"кальсоны\", \"лобзик\", \"питбуль\" и \"питон\" попали во второй, \"женский\" список. 🤣🤣🤣"
   ],
   "metadata": {
    "collapsed": false,
    "pycharm": {
     "name": "#%% md\n"
    }
   }
  },
  {
   "cell_type": "markdown",
   "source": [
    "P.P.S. Файлы датасетов с модельной яркой \"мужской\" и \"женской\" выразительностью - mhfe.csv и mhme.csv"
   ],
   "metadata": {
    "collapsed": false,
    "pycharm": {
     "name": "#%% md\n"
    }
   }
  }
 ],
 "metadata": {
  "kernelspec": {
   "display_name": "Python 3",
   "language": "python",
   "name": "python3"
  },
  "language_info": {
   "codemirror_mode": {
    "name": "ipython",
    "version": 2
   },
   "file_extension": ".py",
   "mimetype": "text/x-python",
   "name": "python",
   "nbconvert_exporter": "python",
   "pygments_lexer": "ipython2",
   "version": "2.7.6"
  }
 },
 "nbformat": 4,
 "nbformat_minor": 0
}